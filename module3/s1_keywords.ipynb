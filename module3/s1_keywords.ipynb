{
 "cells": [
  {
   "cell_type": "markdown",
   "metadata": {},
   "source": [
    "# Extraction de Keywords"
   ]
  },
  {
   "cell_type": "markdown",
   "metadata": {},
   "source": [
    "## Imports"
   ]
  },
  {
   "cell_type": "code",
   "execution_count": 1,
   "metadata": {},
   "outputs": [],
   "source": [
    "import os\n",
    "import yake"
   ]
  },
  {
   "cell_type": "markdown",
   "metadata": {},
   "source": [
    "## Extraire les mots clés d'un document avec Yake"
   ]
  },
  {
   "cell_type": "markdown",
   "metadata": {},
   "source": [
    "https://github.com/LIAAD/yake"
   ]
  },
  {
   "cell_type": "code",
   "execution_count": 2,
   "metadata": {},
   "outputs": [
    {
     "data": {
      "text/plain": [
       "<yake.yake.KeywordExtractor at 0x171d9d70eb0>"
      ]
     },
     "execution_count": 2,
     "metadata": {},
     "output_type": "execute_result"
    }
   ],
   "source": [
    "# Instantier l'extracteur de mots clés\n",
    "kw_extractor = yake.KeywordExtractor(lan=\"fr\", top=50)\n",
    "kw_extractor"
   ]
  },
  {
   "cell_type": "code",
   "execution_count": 3,
   "metadata": {},
   "outputs": [],
   "source": [
    "# Lister les Fichiers\n",
    "data_path = \"../data/txt/\"\n",
    "files = os.listdir(data_path)"
   ]
  },
  {
   "cell_type": "code",
   "execution_count": 4,
   "metadata": {},
   "outputs": [
    {
     "data": {
      "text/plain": [
       "7936"
      ]
     },
     "execution_count": 4,
     "metadata": {},
     "output_type": "execute_result"
    }
   ],
   "source": [
    "# Imprimer le nombre de fichiers identifiés\n",
    "len(files)"
   ]
  },
  {
   "cell_type": "code",
   "execution_count": 5,
   "metadata": {},
   "outputs": [
    {
     "data": {
      "text/plain": [
       "['KB_JB838_1887-12-22_01-00001.txt',\n",
       " 'KB_JB838_1887-12-22_01-00002.txt',\n",
       " 'KB_JB838_1887-12-22_01-00003.txt',\n",
       " 'KB_JB838_1887-12-22_01-00004.txt',\n",
       " 'KB_JB838_1887-12-22_01-00005.txt',\n",
       " 'KB_JB838_1887-12-22_01-00006.txt',\n",
       " 'KB_JB838_1887-12-23_01-00001.txt',\n",
       " 'KB_JB838_1887-12-23_01-00002.txt',\n",
       " 'KB_JB838_1887-12-24_01-00001.txt',\n",
       " 'KB_JB838_1887-12-24_01-00002.txt']"
      ]
     },
     "execution_count": 5,
     "metadata": {},
     "output_type": "execute_result"
    }
   ],
   "source": [
    "# Les dix premiers fichiers\n",
    "files[:10]"
   ]
  },
  {
   "cell_type": "code",
   "execution_count": 7,
   "metadata": {},
   "outputs": [
    {
     "data": {
      "text/plain": [
       "'KB_JB838_1908-02-18_01-00006.txt'"
      ]
     },
     "execution_count": 7,
     "metadata": {},
     "output_type": "execute_result"
    }
   ],
   "source": [
    "# Choisir un fichier\n",
    "this_file = files[1953]\n",
    "this_file"
   ]
  },
  {
   "cell_type": "code",
   "execution_count": 10,
   "metadata": {},
   "outputs": [
    {
     "data": {
      "text/plain": [
       "'* n»*. wmV TM ATIAUfr fl f* M T A I D E? O «ANS LA MOINDRE DOULEUR» SANS ENDORMIR, SA! EXT RflCT IONS Ut Pi I Alnto pjtQOÈbÉ unique. inqonnu ailleurs, recommande —■ \\' ; g T 1 \\' , **‘\"f>î7~nSMA~M r i>i f uie camp. 80 Ans, Cli. pl. n ; (îllérîsnn dfi W tt * BARRIÉ ÛUe de quartiey,19»rueFo$- P t. faire, g. 80 à & Tr.t28 S ^urucilouil lie ill «iiLLXVLXl sA»Ux Loupa, «T 3333 r. des Rentiers, EU- 1MP9 1 SANS PRODUIT DANQËR tUX O CR* AUX PERSONNES SsnAIBI-BS O OSNTI8TBS Il \\'i| Il 1 l<l||«g III II >E «I'"
      ]
     },
     "execution_count": 10,
     "metadata": {},
     "output_type": "execute_result"
    }
   ],
   "source": [
    "# Récupérer le texte du fichier\n",
    "text = open(os.path.join(data_path, this_file), 'r', encoding='utf-8').read()\n",
    "text[:500]"
   ]
  },
  {
   "cell_type": "code",
   "execution_count": 11,
   "metadata": {},
   "outputs": [
    {
     "data": {
      "text/plain": [
       "[('RUE', 0.0019237427578421803),\n",
       " ('dem', 0.0035162371224479573),\n",
       " ('fille', 0.004677711721686429),\n",
       " ('faire', 0.005887805162302519),\n",
       " ('Agence Rossel', 0.00825856457159738),\n",
       " ('bonne', 0.00914579926126),\n",
       " ('demande', 0.00973376307952379),\n",
       " ('Rossel', 0.011320640698398578),\n",
       " ('ANS', 0.011651516117629396),\n",
       " ('DEMANDE bonne fille', 0.012640076994007392),\n",
       " ('dés.', 0.014784332729731163),\n",
       " ('bonne fille', 0.018102020575900577),\n",
       " ('dem.', 0.018371640737013837),\n",
       " ('DEMANDE bonne', 0.019339967078230613),\n",
       " ('MIDI', 0.019801796493437804),\n",
       " ('piano', 0.019936782952466085),\n",
       " ('DEMANDE servante', 0.02006210082289998),\n",
       " ('Brux', 0.020336121680347142),\n",
       " ('servante', 0.021681500363681622),\n",
       " ('Agence', 0.022163659933117738),\n",
       " ('Ecr', 0.02223444006783819),\n",
       " ('vendre', 0.02292147787579191),\n",
       " ('Nord', 0.02374766048459318),\n",
       " ('Prix', 0.024587699109575867),\n",
       " ('place', 0.025585477913483694),\n",
       " ('pianos', 0.02791149613345252),\n",
       " ('bon', 0.028806966085976056),\n",
       " ('gag', 0.029083194321855743),\n",
       " ('vend', 0.03004110399412875),\n",
       " ('Bons', 0.03168766269457366),\n",
       " ('bonne servante', 0.0324990903637175),\n",
       " ('chambre', 0.03258138993053956),\n",
       " ('fille dés.', 0.03330411247522985),\n",
       " ('Rue Van', 0.033321151440806995),\n",
       " ('fille dem', 0.033628089813702446),\n",
       " ('coucher', 0.03569055012230673),\n",
       " ('DEMANDE dem', 0.035879696375204974),\n",
       " ('faire dem', 0.036523317336959835),\n",
       " ('Maison', 0.0396680099256568),\n",
       " ('faire pari', 0.04129286340436047),\n",
       " ('fille wal. dem.', 0.04199165732313712),\n",
       " ('bon.', 0.046671446797983865),\n",
       " ('suite', 0.04690694858961908),\n",
       " ('Bruxelles', 0.04698412419823339),\n",
       " ('chêne', 0.04839556998604622),\n",
       " ('demande faire', 0.04893353331652521),\n",
       " ('Van', 0.04988881701344139),\n",
       " ('salle', 0.05039268155328246),\n",
       " ('sér.', 0.053020687431579845),\n",
       " ('rue Joseph', 0.0532718260274366)]"
      ]
     },
     "execution_count": 11,
     "metadata": {},
     "output_type": "execute_result"
    }
   ],
   "source": [
    "# Extraire les mots clés de ce texte\n",
    "keywords = kw_extractor.extract_keywords(text)\n",
    "keywords"
   ]
  },
  {
   "cell_type": "code",
   "execution_count": 12,
   "metadata": {},
   "outputs": [
    {
     "data": {
      "text/plain": [
       "['Agence Rossel',\n",
       " 'bonne fille',\n",
       " 'DEMANDE bonne',\n",
       " 'DEMANDE servante',\n",
       " 'bonne servante',\n",
       " 'fille dés.',\n",
       " 'Rue Van',\n",
       " 'fille dem',\n",
       " 'DEMANDE dem',\n",
       " 'faire dem',\n",
       " 'faire pari',\n",
       " 'demande faire',\n",
       " 'rue Joseph']"
      ]
     },
     "execution_count": 12,
     "metadata": {},
     "output_type": "execute_result"
    }
   ],
   "source": [
    "# Ne garder que les bigrammes\n",
    "kept = []\n",
    "for kw, score in keywords:\n",
    "    words = kw.split()\n",
    "    if len(words) == 2:\n",
    "        kept.append(kw)\n",
    "kept"
   ]
  },
  {
   "cell_type": "markdown",
   "metadata": {},
   "source": [
    "## Faire la même opération sur tous les documents"
   ]
  },
  {
   "cell_type": "code",
   "execution_count": 13,
   "metadata": {},
   "outputs": [
    {
     "name": "stdout",
     "output_type": "stream",
     "text": [
      "KB_JB838_1887-12-22_01-00001.txt mentions these keywords: EXEMPLAIRES distribués, assassins politiques, distribués gratuitement, lomération bruxelloise, bruxelloise et.en, ræge quotidien, QUOTIDIEN GRATUIT, GRATUIT Température, facteur rural, Température Baromètre...\n",
      "KB_JB838_1887-12-22_01-00002.txt mentions these keywords: Ligue nalio, rester fidèle, Van Ophem...\n",
      "KB_JB838_1887-12-22_01-00003.txt mentions these keywords: prince Guillaume, Finet critique, Pierrot Macabre, HEURE Vienne...\n",
      "KB_JB838_1887-12-22_01-00004.txt mentions these keywords: demande place, fiVS ÉPICERIES, ÉPICERIES t'Tu, lie Cologne, Fille val., place Madou, Bon Marché, rue Scailquin, rue Plantin, sci rue, bon certifie, rue lie, rue Bines, exposition Bruxelles, place sach, Bruxelles Centre, BRUXELLES Rideauœ...\n",
      "KB_JB838_1887-12-22_01-00005.txt mentions these keywords: rue Plantin, OBJETS PERDUS, PERDUS gravure, LOUER DEMANDES, grande rue, rue Blaes, rue Hôtel, prix Bruxelles, rue Goflhrl, wôporler rue, rue St-Micliel...\n",
      "KB_JB838_1887-12-22_01-00006.txt mentions these keywords: RHUM ST-GEORGES, question militaire, Société royale, Société Philharmonique, l’école militaire, rue Haute, Nord BRUXELLES, préparatifs militaires, loi portant...\n",
      "KB_JB838_1887-12-23_01-00001.txt mentions these keywords: matin Température, Température maximum, GRATUIT température, température Irti, heurte matin, OBSERVATOIRE ROYAL, Irti Baromètre, QUOTIDIEN GRATUIT, JOURNAL QUOTIDIEN, rues Royale, Vent dominant, Haute Pinte, Bruxelles d’un, Pinte rue...\n",
      "KB_JB838_1887-12-23_01-00002.txt mentions these keywords: ...\n",
      "KB_JB838_1887-12-24_01-00001.txt mentions these keywords: TIRAGE QUOTIDIEN, nommé président, JOURNAL QUOTIDIEN, c’est qu’il, QUOTIDIEN GRATUIT, ANNÉE Samedi, section artistique, BRUXELLES PRIX...\n",
      "KB_JB838_1887-12-24_01-00002.txt mentions these keywords: capitaine Mac, Mme Lachaud, rue Joseph, police qu’il, jeune homme...\n"
     ]
    }
   ],
   "source": [
    "for f in sorted(files)[:10]:\n",
    "    text = open(os.path.join(data_path, f), 'r', encoding=\"utf-8\").read()\n",
    "    keywords = kw_extractor.extract_keywords(text)\n",
    "    kept = []\n",
    "    for kw, score in keywords:\n",
    "        words = kw.split()\n",
    "        if len(words) == 2:\n",
    "            kept.append(kw)\n",
    "    print(f\"{f} mentions these keywords: {', '.join(kept)}...\")"
   ]
  }
 ],
 "metadata": {
  "kernelspec": {
   "display_name": "Python 3.10.7 ('tac_venv': venv)",
   "language": "python",
   "name": "python3"
  },
  "language_info": {
   "codemirror_mode": {
    "name": "ipython",
    "version": 3
   },
   "file_extension": ".py",
   "mimetype": "text/x-python",
   "name": "python",
   "nbconvert_exporter": "python",
   "pygments_lexer": "ipython3",
   "version": "3.10.7"
  },
  "vscode": {
   "interpreter": {
    "hash": "94e6b5bcc7f7e753f66bebfa8eedfd78b30fa455e50dcf18e2f776c23ff31700"
   }
  }
 },
 "nbformat": 4,
 "nbformat_minor": 4
}
