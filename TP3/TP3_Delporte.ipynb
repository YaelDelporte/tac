{
 "cells": [
  {
   "cell_type": "markdown",
   "metadata": {},
   "source": [
    "# Clustering de documents"
   ]
  },
  {
   "cell_type": "code",
   "execution_count": null,
   "metadata": {},
   "outputs": [],
   "source": [
    "# TP3\n",
    "# copie de s2_clustering du module4"
   ]
  },
  {
   "cell_type": "markdown",
   "metadata": {},
   "source": [
    "## Imports"
   ]
  },
  {
   "cell_type": "code",
   "execution_count": 1,
   "metadata": {},
   "outputs": [],
   "source": [
    "import collections\n",
    "import os\n",
    "import string\n",
    "import sys\n",
    "\n",
    "import pandas as pd\n",
    "from nltk import word_tokenize\n",
    "from nltk.corpus import stopwords\n",
    "from pprint import pprint\n",
    "from sklearn.cluster import KMeans\n",
    "from sklearn.feature_extraction.text import TfidfVectorizer\n",
    "from sklearn.decomposition import PCA\n",
    "import numpy as np\n",
    "import matplotlib.pyplot as plt\n",
    "from scipy.spatial.distance import cosine"
   ]
  },
  {
   "cell_type": "code",
   "execution_count": 2,
   "metadata": {},
   "outputs": [
    {
     "name": "stderr",
     "output_type": "stream",
     "text": [
      "[nltk_data] Downloading package punkt to\n",
      "[nltk_data]     C:\\Users\\yaeld\\AppData\\Roaming\\nltk_data...\n",
      "[nltk_data]   Package punkt is already up-to-date!\n"
     ]
    },
    {
     "data": {
      "text/plain": [
       "True"
      ]
     },
     "execution_count": 2,
     "metadata": {},
     "output_type": "execute_result"
    }
   ],
   "source": [
    "import nltk\n",
    "\n",
    "nltk.download('punkt')"
   ]
  },
  {
   "cell_type": "code",
   "execution_count": 3,
   "metadata": {},
   "outputs": [],
   "source": [
    "data_path = \"../data/txt/\""
   ]
  },
  {
   "cell_type": "markdown",
   "metadata": {},
   "source": [
    "## Choisir une décennie"
   ]
  },
  {
   "cell_type": "code",
   "execution_count": 4,
   "metadata": {},
   "outputs": [],
   "source": [
    "DECADE = '1950'"
   ]
  },
  {
   "cell_type": "markdown",
   "metadata": {},
   "source": [
    "## Charger tous les  fichiers de la décennie et en créer une liste de textes"
   ]
  },
  {
   "cell_type": "code",
   "execution_count": 5,
   "metadata": {},
   "outputs": [],
   "source": [
    "files = [f for f in sorted(os.listdir(data_path)) if f\"_{DECADE[:-1]}\" in f]"
   ]
  },
  {
   "cell_type": "code",
   "execution_count": 7,
   "metadata": {},
   "outputs": [
    {
     "data": {
      "text/plain": [
       "['KB_JB838_1950-01-06_01-00002.txt',\n",
       " 'KB_JB838_1950-01-07_01-00013.txt',\n",
       " 'KB_JB838_1950-01-08_01-00011.txt',\n",
       " 'KB_JB838_1950-01-10_01-00006.txt',\n",
       " 'KB_JB838_1950-01-15_01-00010.txt']"
      ]
     },
     "execution_count": 7,
     "metadata": {},
     "output_type": "execute_result"
    }
   ],
   "source": [
    "# Exemple de fichiers\n",
    "files[:5]"
   ]
  },
  {
   "cell_type": "code",
   "execution_count": 6,
   "metadata": {},
   "outputs": [],
   "source": [
    "texts = [open(data_path + f, \"r\", encoding=\"utf-8\").read() for f in files]"
   ]
  },
  {
   "cell_type": "code",
   "execution_count": 7,
   "metadata": {},
   "outputs": [
    {
     "data": {
      "text/plain": [
       "'/ LE SOIR Une importante manifestation franco-belge Le Comité franco-belge du Commerce, de l’Industrie et de l’Agriculture qui. au cours de l’année écoulée et dans les circonstances les plus difficiles a rendu aux relations économiques entre les deux pays des services considérables, donnera le 12 janvier, à 19 h. 30, un dîner à l’occasion de l’anniversaire de son installation. Ce comité, qui fonct'"
      ]
     },
     "execution_count": 7,
     "metadata": {},
     "output_type": "execute_result"
    }
   ],
   "source": [
    "# Exemple de textes\n",
    "texts[0][:400]"
   ]
  },
  {
   "cell_type": "markdown",
   "metadata": {},
   "source": [
    "## Vectoriser les documents à l'aide de TF-IDF"
   ]
  },
  {
   "cell_type": "code",
   "execution_count": 9,
   "metadata": {},
   "outputs": [],
   "source": [
    "# Création d'une fonction de pré-traitement\n",
    "def preprocessing(text, stem=True):\n",
    "    \"\"\" Tokenize text and remove punctuation \"\"\"\n",
    "    text = text.translate(string.punctuation)\n",
    "    tokens = word_tokenize(text)\n",
    "    return tokens"
   ]
  },
  {
   "cell_type": "markdown",
   "metadata": {},
   "source": [
    "### Instancier le modèle TF-IDF avec ses arguments"
   ]
  },
  {
   "cell_type": "code",
   "execution_count": 10,
   "metadata": {},
   "outputs": [],
   "source": [
    "vectorizer = TfidfVectorizer(\n",
    "    tokenizer=preprocessing,\n",
    "    stop_words=stopwords.words('french'),\n",
    "    max_df=0.5,\n",
    "    min_df=0.1,\n",
    "    lowercase=True)"
   ]
  },
  {
   "cell_type": "markdown",
   "metadata": {},
   "source": [
    "### Construire la matrice de vecteurs à l'aide de la fonction `fit_transform`"
   ]
  },
  {
   "cell_type": "code",
   "execution_count": 11,
   "metadata": {},
   "outputs": [],
   "source": [
    "tfidf_vectors = vectorizer.fit_transform(texts)"
   ]
  },
  {
   "cell_type": "code",
   "execution_count": 12,
   "metadata": {},
   "outputs": [
    {
     "data": {
      "text/plain": [
       "(1000, 3508)"
      ]
     },
     "execution_count": 12,
     "metadata": {},
     "output_type": "execute_result"
    }
   ],
   "source": [
    "# Détail de la matrice\n",
    "tfidf_vectors.shape"
   ]
  },
  {
   "cell_type": "markdown",
   "metadata": {},
   "source": [
    "### Imprimer le vecteur tf-IDF du premier document"
   ]
  },
  {
   "cell_type": "code",
   "execution_count": 13,
   "metadata": {},
   "outputs": [
    {
     "data": {
      "text/plain": [
       "parti           0.276899\n",
       "loyer           0.152155\n",
       "janvier         0.147985\n",
       "populaire       0.147400\n",
       "propriétaire    0.143646\n",
       "                  ...   \n",
       "ent             0.000000\n",
       "entend          0.000000\n",
       "enthousiasme    0.000000\n",
       "entier          0.000000\n",
       "italiens        0.000000\n",
       "Length: 3508, dtype: float64"
      ]
     },
     "execution_count": 13,
     "metadata": {},
     "output_type": "execute_result"
    }
   ],
   "source": [
    "pd.Series(\n",
    "    tfidf_vectors[0].toarray()[0],\n",
    "    index=vectorizer.get_feature_names_out()\n",
    "    ).sort_values(ascending=False)"
   ]
  },
  {
   "cell_type": "markdown",
   "metadata": {},
   "source": [
    "## Comprendre les vecteurs et leurs \"distances\""
   ]
  },
  {
   "cell_type": "markdown",
   "metadata": {},
   "source": [
    "### Tests sur nos documents"
   ]
  },
  {
   "cell_type": "code",
   "execution_count": 14,
   "metadata": {},
   "outputs": [],
   "source": [
    "tfidf_array = tfidf_vectors.toarray()"
   ]
  },
  {
   "cell_type": "code",
   "execution_count": 15,
   "metadata": {},
   "outputs": [
    {
     "data": {
      "text/plain": [
       "array([0.        , 0.        , 0.        , ..., 0.        , 0.        ,\n",
       "       0.03783208])"
      ]
     },
     "execution_count": 15,
     "metadata": {},
     "output_type": "execute_result"
    }
   ],
   "source": [
    "# Vecteur du document 0\n",
    "tfidf_array[0]"
   ]
  },
  {
   "cell_type": "code",
   "execution_count": 16,
   "metadata": {},
   "outputs": [
    {
     "data": {
      "text/plain": [
       "array([0.        , 0.00670198, 0.        , ..., 0.        , 0.        ,\n",
       "       0.        ])"
      ]
     },
     "execution_count": 16,
     "metadata": {},
     "output_type": "execute_result"
    }
   ],
   "source": [
    "# Vecteur du document 1\n",
    "tfidf_array[1]"
   ]
  },
  {
   "cell_type": "code",
   "execution_count": 17,
   "metadata": {},
   "outputs": [
    {
     "data": {
      "text/plain": [
       "0.931459087039414"
      ]
     },
     "execution_count": 17,
     "metadata": {},
     "output_type": "execute_result"
    }
   ],
   "source": [
    "cosine(tfidf_array[0], tfidf_array[1])"
   ]
  },
  {
   "cell_type": "markdown",
   "metadata": {},
   "source": [
    "## Appliquer un algorithme de clustering sur les vecteurs TF-IDF des documents"
   ]
  },
  {
   "cell_type": "markdown",
   "metadata": {},
   "source": [
    "Pour en savoir plus sur le KMeans clustering :\n",
    "- https://medium.com/dataseries/k-means-clustering-explained-visually-in-5-minutes-b900cc69d175"
   ]
  },
  {
   "cell_type": "markdown",
   "metadata": {},
   "source": [
    "### Définir un nombre de clusters"
   ]
  },
  {
   "cell_type": "code",
   "execution_count": 26,
   "metadata": {},
   "outputs": [],
   "source": [
    "N_CLUSTERS = 4"
   ]
  },
  {
   "cell_type": "markdown",
   "metadata": {},
   "source": [
    "### Instancier le modèle K-Means et ses arguments"
   ]
  },
  {
   "cell_type": "code",
   "execution_count": 27,
   "metadata": {},
   "outputs": [],
   "source": [
    "km_model = KMeans(n_clusters=N_CLUSTERS)"
   ]
  },
  {
   "cell_type": "markdown",
   "metadata": {},
   "source": [
    "### Appliquer le clustering à l'aide de la fonction `fit_predict`"
   ]
  },
  {
   "cell_type": "code",
   "execution_count": 28,
   "metadata": {},
   "outputs": [],
   "source": [
    "clusters = km_model.fit_predict(tfidf_vectors)"
   ]
  },
  {
   "cell_type": "code",
   "execution_count": 29,
   "metadata": {},
   "outputs": [],
   "source": [
    "clustering = collections.defaultdict(list)\n",
    "\n",
    "for idx, label in enumerate(clusters):\n",
    "    clustering[label].append(files[idx])"
   ]
  },
  {
   "cell_type": "code",
   "execution_count": 30,
   "metadata": {},
   "outputs": [
    {
     "name": "stdout",
     "output_type": "stream",
     "text": [
      "{0: ['KB_JB838_1950-01-08_01-00011.txt',\n",
      "     'KB_JB838_1950-03-29_01-00008.txt',\n",
      "     'KB_JB838_1950-04-21_01-00010.txt',\n",
      "     'KB_JB838_1950-05-20_01-00016.txt',\n",
      "     'KB_JB838_1950-06-04_01-00012.txt',\n",
      "     'KB_JB838_1950-06-24_01-00011.txt',\n",
      "     'KB_JB838_1950-06-25_01-00013.txt',\n",
      "     'KB_JB838_1950-07-08_01-00009.txt',\n",
      "     'KB_JB838_1950-07-20_01-00010.txt',\n",
      "     'KB_JB838_1950-09-21_01-00009.txt',\n",
      "     'KB_JB838_1950-10-15_01-00016.txt',\n",
      "     'KB_JB838_1950-11-04_01-00012.txt',\n",
      "     'KB_JB838_1950-11-09_01-00012.txt',\n",
      "     'KB_JB838_1950-12-14_01-00011.txt',\n",
      "     'KB_JB838_1951-01-04_01-00009.txt',\n",
      "     'KB_JB838_1951-01-13_01-00012.txt',\n",
      "     'KB_JB838_1951-01-23_01-00009.txt',\n",
      "     'KB_JB838_1951-01-25_01-00010.txt',\n",
      "     'KB_JB838_1951-02-03_01-00013.txt',\n",
      "     'KB_JB838_1951-02-14_01-00009.txt',\n",
      "     'KB_JB838_1951-02-24_01-00011.txt',\n",
      "     'KB_JB838_1951-03-06_01-00010.txt',\n",
      "     'KB_JB838_1951-04-11_01-00010.txt',\n",
      "     'KB_JB838_1951-05-13_01-00015.txt',\n",
      "     'KB_JB838_1951-05-24_01-00009.txt',\n",
      "     'KB_JB838_1951-05-26_01-00011.txt',\n",
      "     'KB_JB838_1951-05-27_01-00016.txt',\n",
      "     'KB_JB838_1951-05-31_01-00010.txt',\n",
      "     'KB_JB838_1951-06-24_01-00016.txt',\n",
      "     'KB_JB838_1951-07-04_01-00009.txt',\n",
      "     'KB_JB838_1951-07-13_01-00011.txt',\n",
      "     'KB_JB838_1951-07-13_01-00012.txt',\n",
      "     'KB_JB838_1951-08-28_01-00009.txt',\n",
      "     'KB_JB838_1951-11-13_01-00011.txt',\n",
      "     'KB_JB838_1951-12-28_01-00010.txt',\n",
      "     'KB_JB838_1952-01-13_01-00013.txt',\n",
      "     'KB_JB838_1952-01-24_01-00013.txt',\n",
      "     'KB_JB838_1952-02-05_01-00010.txt',\n",
      "     'KB_JB838_1952-02-29_01-00010.txt',\n",
      "     'KB_JB838_1952-05-14_01-00010.txt',\n",
      "     'KB_JB838_1952-06-04_01-00008.txt',\n",
      "     'KB_JB838_1952-06-21_01-00009.txt',\n",
      "     'KB_JB838_1952-07-01_01-00011.txt',\n",
      "     'KB_JB838_1952-09-12_01-00009.txt',\n",
      "     'KB_JB838_1952-09-17_01-00010.txt',\n",
      "     'KB_JB838_1952-11-14_01-00012.txt',\n",
      "     'KB_JB838_1952-11-16_01-00017.txt',\n",
      "     'KB_JB838_1952-11-30_01-00014.txt',\n",
      "     'KB_JB838_1953-01-22_01-00009.txt',\n",
      "     'KB_JB838_1953-01-24_01-00011.txt',\n",
      "     'KB_JB838_1953-01-28_01-00010.txt',\n",
      "     'KB_JB838_1953-02-20_01-00012.txt',\n",
      "     'KB_JB838_1953-05-31_01-00014.txt',\n",
      "     'KB_JB838_1953-06-02_01-00010.txt',\n",
      "     'KB_JB838_1953-07-01_01-00011.txt',\n",
      "     'KB_JB838_1953-07-10_01-00012.txt',\n",
      "     'KB_JB838_1953-07-11_01-00012.txt',\n",
      "     'KB_JB838_1953-07-18_01-00011.txt',\n",
      "     'KB_JB838_1953-08-02_01-00011.txt',\n",
      "     'KB_JB838_1953-08-15_01-00012.txt',\n",
      "     'KB_JB838_1953-10-30_01-00012.txt',\n",
      "     'KB_JB838_1954-01-03_01-00016.txt',\n",
      "     'KB_JB838_1954-01-17_01-00012.txt',\n",
      "     'KB_JB838_1954-01-24_01-00015.txt',\n",
      "     'KB_JB838_1954-02-21_01-00013.txt',\n",
      "     'KB_JB838_1954-04-23_01-00011.txt',\n",
      "     'KB_JB838_1954-04-23_01-00012.txt',\n",
      "     'KB_JB838_1954-05-08_01-00013.txt',\n",
      "     'KB_JB838_1954-05-12_01-00009.txt',\n",
      "     'KB_JB838_1954-06-12_01-00015.txt',\n",
      "     'KB_JB838_1954-06-20_01-00017.txt',\n",
      "     'KB_JB838_1954-07-13_01-00011.txt',\n",
      "     'KB_JB838_1954-10-07_01-00012.txt',\n",
      "     'KB_JB838_1954-10-27_01-00013.txt',\n",
      "     'KB_JB838_1954-10-31_01-00016.txt',\n",
      "     'KB_JB838_1954-11-21_01-00016.txt',\n",
      "     'KB_JB838_1954-11-28_01-00016.txt',\n",
      "     'KB_JB838_1955-01-18_01-00010.txt',\n",
      "     'KB_JB838_1955-01-28_01-00012.txt',\n",
      "     'KB_JB838_1955-02-08_01-00011.txt',\n",
      "     'KB_JB838_1955-02-23_01-00011.txt',\n",
      "     'KB_JB838_1955-09-29_01-00018.txt',\n",
      "     'KB_JB838_1955-10-06_01-00016.txt',\n",
      "     'KB_JB838_1955-10-15_01-00011.txt',\n",
      "     'KB_JB838_1955-12-16_01-00016.txt',\n",
      "     'KB_JB838_1956-03-01_01-00016.txt',\n",
      "     'KB_JB838_1956-05-10_01-00017.txt',\n",
      "     'KB_JB838_1956-05-30_01-00013.txt',\n",
      "     'KB_JB838_1956-06-10_01-00014.txt',\n",
      "     'KB_JB838_1956-06-15_01-00015.txt',\n",
      "     'KB_JB838_1956-06-22_01-00016.txt',\n",
      "     'KB_JB838_1956-07-10_01-00012.txt',\n",
      "     'KB_JB838_1956-08-28_01-00009.txt',\n",
      "     'KB_JB838_1956-09-27_01-00014.txt',\n",
      "     'KB_JB838_1956-10-24_01-00013.txt',\n",
      "     'KB_JB838_1956-11-15_01-00014.txt',\n",
      "     'KB_JB838_1956-11-16_01-00014.txt',\n",
      "     'KB_JB838_1956-11-22_01-00014.txt',\n",
      "     'KB_JB838_1956-12-12_01-00013.txt',\n",
      "     'KB_JB838_1957-02-06_01-00013.txt',\n",
      "     'KB_JB838_1957-02-27_01-00011.txt',\n",
      "     'KB_JB838_1957-03-02_01-00013.txt',\n",
      "     'KB_JB838_1957-03-13_01-00012.txt',\n",
      "     'KB_JB838_1957-03-14_01-00015.txt',\n",
      "     'KB_JB838_1957-06-02_01-00015.txt',\n",
      "     'KB_JB838_1957-06-02_01-00016.txt',\n",
      "     'KB_JB838_1957-06-06_01-00017.txt',\n",
      "     'KB_JB838_1957-06-13_01-00016.txt',\n",
      "     'KB_JB838_1957-07-09_01-00011.txt',\n",
      "     'KB_JB838_1957-07-10_01-00012.txt',\n",
      "     'KB_JB838_1957-11-07_01-00017.txt',\n",
      "     'KB_JB838_1957-11-28_01-00015.txt',\n",
      "     'KB_JB838_1957-12-15_01-00015.txt',\n",
      "     'KB_JB838_1958-02-02_01-00013.txt',\n",
      "     'KB_JB838_1958-03-23_01-00015.txt',\n",
      "     'KB_JB838_1958-04-10_01-00015.txt',\n",
      "     'KB_JB838_1958-05-08_01-00016.txt',\n",
      "     'KB_JB838_1958-05-14_01-00014.txt',\n",
      "     'KB_JB838_1958-06-19_01-00017.txt',\n",
      "     'KB_JB838_1958-06-29_01-00016.txt',\n",
      "     'KB_JB838_1958-07-11_01-00015.txt',\n",
      "     'KB_JB838_1958-07-17_01-00016.txt',\n",
      "     'KB_JB838_1958-09-18_01-00017.txt',\n",
      "     'KB_JB838_1958-12-17_01-00014.txt',\n",
      "     'KB_JB838_1958-12-21_01-00016.txt',\n",
      "     'KB_JB838_1959-02-19_01-00016.txt',\n",
      "     'KB_JB838_1959-03-20_01-00018.txt',\n",
      "     'KB_JB838_1959-05-06_01-00014.txt',\n",
      "     'KB_JB838_1959-06-26_01-00017.txt',\n",
      "     'KB_JB838_1959-07-16_01-00016.txt',\n",
      "     'KB_JB838_1959-09-05_01-00016.txt',\n",
      "     'KB_JB838_1959-10-01_01-00016.txt',\n",
      "     'KB_JB838_1959-11-05_01-00019.txt',\n",
      "     'KB_JB838_1959-11-11_01-00017.txt'],\n",
      " 1: ['KB_JB838_1950-01-22_01-00014.txt',\n",
      "     'KB_JB838_1950-02-15_01-00011.txt',\n",
      "     'KB_JB838_1950-02-16_01-00014.txt',\n",
      "     'KB_JB838_1950-02-25_01-00013.txt',\n",
      "     'KB_JB838_1950-06-04_01-00016.txt',\n",
      "     'KB_JB838_1950-06-11_01-00015.txt',\n",
      "     'KB_JB838_1950-09-08_01-00012.txt',\n",
      "     'KB_JB838_1950-09-09_01-00011.txt',\n",
      "     'KB_JB838_1950-10-05_01-00012.txt',\n",
      "     'KB_JB838_1950-10-15_01-00018.txt',\n",
      "     'KB_JB838_1950-10-27_01-00014.txt',\n",
      "     'KB_JB838_1950-11-04_01-00014.txt',\n",
      "     'KB_JB838_1950-11-24_01-00013.txt',\n",
      "     'KB_JB838_1950-12-28_01-00012.txt',\n",
      "     'KB_JB838_1950-12-29_01-00014.txt',\n",
      "     'KB_JB838_1951-01-16_01-00010.txt',\n",
      "     'KB_JB838_1951-01-23_01-00011.txt',\n",
      "     'KB_JB838_1951-02-24_01-00015.txt',\n",
      "     'KB_JB838_1951-03-15_01-00016.txt',\n",
      "     'KB_JB838_1951-03-22_01-00012.txt',\n",
      "     'KB_JB838_1951-04-15_01-00019.txt',\n",
      "     'KB_JB838_1951-05-23_01-00012.txt',\n",
      "     'KB_JB838_1951-05-26_01-00014.txt',\n",
      "     'KB_JB838_1951-07-13_01-00013.txt',\n",
      "     'KB_JB838_1951-09-29_01-00014.txt',\n",
      "     'KB_JB838_1951-11-30_01-00012.txt',\n",
      "     'KB_JB838_1951-12-20_01-00016.txt',\n",
      "     'KB_JB838_1952-02-02_01-00014.txt',\n",
      "     'KB_JB838_1952-02-05_01-00012.txt',\n",
      "     'KB_JB838_1952-02-14_01-00011.txt',\n",
      "     'KB_JB838_1952-04-06_01-00019.txt',\n",
      "     'KB_JB838_1952-05-13_01-00012.txt',\n",
      "     'KB_JB838_1952-05-27_01-00012.txt',\n",
      "     'KB_JB838_1952-06-11_01-00011.txt',\n",
      "     'KB_JB838_1952-06-13_01-00012.txt',\n",
      "     'KB_JB838_1952-06-21_01-00011.txt',\n",
      "     'KB_JB838_1952-07-11_01-00012.txt',\n",
      "     'KB_JB838_1952-10-16_01-00013.txt',\n",
      "     'KB_JB838_1952-10-17_01-00013.txt',\n",
      "     'KB_JB838_1952-11-29_01-00017.txt',\n",
      "     'KB_JB838_1952-12-11_01-00011.txt',\n",
      "     'KB_JB838_1953-02-01_01-00020.txt',\n",
      "     'KB_JB838_1953-02-06_01-00014.txt',\n",
      "     'KB_JB838_1953-02-17_01-00011.txt',\n",
      "     'KB_JB838_1953-03-29_01-00015.txt',\n",
      "     'KB_JB838_1953-04-29_01-00012.txt',\n",
      "     'KB_JB838_1953-05-03_01-00020.txt',\n",
      "     'KB_JB838_1953-05-08_01-00014.txt',\n",
      "     'KB_JB838_1953-07-05_01-00019.txt',\n",
      "     'KB_JB838_1953-07-12_01-00015.txt',\n",
      "     'KB_JB838_1953-10-03_01-00017.txt',\n",
      "     'KB_JB838_1953-10-17_01-00017.txt',\n",
      "     'KB_JB838_1953-10-29_01-00015.txt',\n",
      "     'KB_JB838_1953-12-13_01-00018.txt',\n",
      "     'KB_JB838_1954-01-12_01-00012.txt',\n",
      "     'KB_JB838_1954-01-16_01-00017.txt',\n",
      "     'KB_JB838_1954-03-05_01-00014.txt',\n",
      "     'KB_JB838_1954-03-27_01-00019.txt',\n",
      "     'KB_JB838_1954-04-06_01-00013.txt',\n",
      "     'KB_JB838_1954-04-11_01-00017.txt',\n",
      "     'KB_JB838_1954-06-23_01-00012.txt',\n",
      "     'KB_JB838_1954-07-02_01-00013.txt',\n",
      "     'KB_JB838_1954-07-27_01-00012.txt',\n",
      "     'KB_JB838_1954-08-07_01-00012.txt',\n",
      "     'KB_JB838_1954-09-17_01-00012.txt',\n",
      "     'KB_JB838_1954-10-02_01-00016.txt',\n",
      "     'KB_JB838_1954-10-14_01-00019.txt',\n",
      "     'KB_JB838_1954-10-17_01-00017.txt',\n",
      "     'KB_JB838_1955-01-18_01-00011.txt',\n",
      "     'KB_JB838_1955-02-06_01-00018.txt',\n",
      "     'KB_JB838_1955-02-16_01-00014.txt',\n",
      "     'KB_JB838_1955-03-03_01-00015.txt',\n",
      "     'KB_JB838_1955-03-08_01-00012.txt',\n",
      "     'KB_JB838_1955-04-27_01-00017.txt',\n",
      "     'KB_JB838_1955-06-11_01-00019.txt',\n",
      "     'KB_JB838_1955-08-25_01-00016.txt',\n",
      "     'KB_JB838_1955-09-01_01-00015.txt',\n",
      "     'KB_JB838_1955-09-04_01-00017.txt',\n",
      "     'KB_JB838_1955-09-07_01-00017.txt',\n",
      "     'KB_JB838_1955-09-08_01-00018.txt',\n",
      "     'KB_JB838_1955-09-09_01-00016.txt',\n",
      "     'KB_JB838_1955-09-18_01-00019.txt',\n",
      "     'KB_JB838_1955-10-19_01-00016.txt',\n",
      "     'KB_JB838_1955-10-23_01-00019.txt',\n",
      "     'KB_JB838_1955-11-17_01-00018.txt',\n",
      "     'KB_JB838_1955-12-17_01-00015.txt',\n",
      "     'KB_JB838_1956-02-25_01-00016.txt',\n",
      "     'KB_JB838_1956-03-03_01-00019.txt',\n",
      "     'KB_JB838_1956-03-25_01-00018.txt',\n",
      "     'KB_JB838_1956-04-08_01-00018.txt',\n",
      "     'KB_JB838_1956-04-14_01-00018.txt',\n",
      "     'KB_JB838_1956-04-17_01-00015.txt',\n",
      "     'KB_JB838_1956-04-26_01-00021.txt',\n",
      "     'KB_JB838_1956-04-27_01-00021.txt',\n",
      "     'KB_JB838_1956-05-02_01-00019.txt',\n",
      "     'KB_JB838_1956-06-09_01-00020.txt',\n",
      "     'KB_JB838_1956-08-17_01-00016.txt',\n",
      "     'KB_JB838_1956-08-21_01-00012.txt',\n",
      "     'KB_JB838_1956-09-02_01-00019.txt',\n",
      "     'KB_JB838_1956-09-19_01-00016.txt',\n",
      "     'KB_JB838_1956-09-28_01-00016.txt',\n",
      "     'KB_JB838_1956-10-19_01-00020.txt',\n",
      "     'KB_JB838_1956-11-10_01-00016.txt',\n",
      "     'KB_JB838_1956-11-13_01-00014.txt',\n",
      "     'KB_JB838_1956-11-29_01-00020.txt',\n",
      "     'KB_JB838_1956-12-20_01-00019.txt',\n",
      "     'KB_JB838_1956-12-20_01-00021.txt',\n",
      "     'KB_JB838_1956-12-28_01-00016.txt',\n",
      "     'KB_JB838_1957-01-24_01-00018.txt',\n",
      "     'KB_JB838_1957-02-03_01-00019.txt',\n",
      "     'KB_JB838_1957-02-09_01-00015.txt',\n",
      "     'KB_JB838_1957-02-20_01-00015.txt',\n",
      "     'KB_JB838_1957-02-27_01-00014.txt',\n",
      "     'KB_JB838_1957-02-28_01-00019.txt',\n",
      "     'KB_JB838_1957-07-25_01-00016.txt',\n",
      "     'KB_JB838_1957-08-20_01-00012.txt',\n",
      "     'KB_JB838_1957-10-03_01-00020.txt',\n",
      "     'KB_JB838_1957-10-11_01-00018.txt',\n",
      "     'KB_JB838_1957-10-30_01-00017.txt',\n",
      "     'KB_JB838_1957-11-14_01-00018.txt',\n",
      "     'KB_JB838_1957-12-07_01-00019.txt',\n",
      "     'KB_JB838_1958-02-18_01-00014.txt',\n",
      "     'KB_JB838_1958-03-06_01-00021.txt',\n",
      "     'KB_JB838_1958-03-16_01-00018.txt',\n",
      "     'KB_JB838_1958-03-16_01-00020.txt',\n",
      "     'KB_JB838_1958-05-09_01-00018.txt',\n",
      "     'KB_JB838_1958-05-31_01-00021.txt',\n",
      "     'KB_JB838_1958-06-17_01-00013.txt',\n",
      "     'KB_JB838_1958-06-29_01-00018.txt',\n",
      "     'KB_JB838_1958-06-29_01-00020.txt',\n",
      "     'KB_JB838_1958-08-10_01-00015.txt',\n",
      "     'KB_JB838_1958-08-24_01-00018.txt',\n",
      "     'KB_JB838_1958-09-07_01-00020.txt',\n",
      "     'KB_JB838_1958-10-19_01-00020.txt',\n",
      "     'KB_JB838_1958-11-07_01-00016.txt',\n",
      "     'KB_JB838_1958-12-03_01-00017.txt',\n",
      "     'KB_JB838_1958-12-04_01-00019.txt',\n",
      "     'KB_JB838_1959-02-05_01-00018.txt',\n",
      "     'KB_JB838_1959-02-24_01-00017.txt',\n",
      "     'KB_JB838_1959-03-06_01-00019.txt',\n",
      "     'KB_JB838_1959-04-17_01-00021.txt',\n",
      "     'KB_JB838_1959-05-29_01-00017.txt',\n",
      "     'KB_JB838_1959-06-03_01-00016.txt',\n",
      "     'KB_JB838_1959-06-05_01-00019.txt',\n",
      "     'KB_JB838_1959-06-05_01-00021.txt',\n",
      "     'KB_JB838_1959-06-06_01-00017.txt',\n",
      "     'KB_JB838_1959-06-14_01-00021.txt',\n",
      "     'KB_JB838_1959-07-23_01-00018.txt',\n",
      "     'KB_JB838_1959-08-30_01-00017.txt',\n",
      "     'KB_JB838_1959-09-12_01-00019.txt',\n",
      "     'KB_JB838_1959-09-13_01-00020.txt',\n",
      "     'KB_JB838_1959-09-22_01-00018.txt',\n",
      "     'KB_JB838_1959-10-09_01-00017.txt',\n",
      "     'KB_JB838_1959-10-10_01-00020.txt',\n",
      "     'KB_JB838_1959-10-21_01-00021.txt',\n",
      "     'KB_JB838_1959-11-19_01-00019.txt'],\n",
      " 2: ['KB_JB838_1950-01-06_01-00002.txt',\n",
      "     'KB_JB838_1950-01-10_01-00006.txt',\n",
      "     'KB_JB838_1950-01-15_01-00010.txt',\n",
      "     'KB_JB838_1950-02-13_01-00005.txt',\n",
      "     'KB_JB838_1950-02-13_01-00008.txt',\n",
      "     'KB_JB838_1950-02-15_01-00014.txt',\n",
      "     'KB_JB838_1950-02-17_01-00009.txt',\n",
      "     'KB_JB838_1950-02-18_01-00009.txt',\n",
      "     'KB_JB838_1950-02-25_01-00006.txt',\n",
      "     'KB_JB838_1950-03-01_01-00005.txt',\n",
      "     'KB_JB838_1950-03-05_01-00020.txt',\n",
      "     'KB_JB838_1950-03-11_01-00005.txt',\n",
      "     'KB_JB838_1950-03-19_01-00001.txt',\n",
      "     'KB_JB838_1950-03-25_01-00009.txt',\n",
      "     'KB_JB838_1950-03-27_01-00002.txt',\n",
      "     'KB_JB838_1950-03-29_01-00002.txt',\n",
      "     'KB_JB838_1950-03-31_01-00006.txt',\n",
      "     'KB_JB838_1950-04-19_01-00002.txt',\n",
      "     'KB_JB838_1950-04-26_01-00007.txt',\n",
      "     'KB_JB838_1950-05-03_01-00006.txt',\n",
      "     'KB_JB838_1950-05-07_01-00002.txt',\n",
      "     'KB_JB838_1950-05-16_01-00003.txt',\n",
      "     'KB_JB838_1950-05-29_01-00002.txt',\n",
      "     'KB_JB838_1950-06-04_01-00011.txt',\n",
      "     'KB_JB838_1950-06-10_01-00010.txt',\n",
      "     'KB_JB838_1950-06-11_01-00001.txt',\n",
      "     'KB_JB838_1950-06-17_01-00006.txt',\n",
      "     'KB_JB838_1950-06-22_01-00004.txt',\n",
      "     'KB_JB838_1950-06-29_01-00002.txt',\n",
      "     'KB_JB838_1950-07-02_01-00002.txt',\n",
      "     'KB_JB838_1950-07-05_01-00005.txt',\n",
      "     'KB_JB838_1950-07-24_01-00006.txt',\n",
      "     'KB_JB838_1950-07-27_01-00007.txt',\n",
      "     'KB_JB838_1950-08-01_01-00003.txt',\n",
      "     'KB_JB838_1950-08-09_01-00006.txt',\n",
      "     'KB_JB838_1950-08-23_01-00003.txt',\n",
      "     'KB_JB838_1950-08-28_01-00005.txt',\n",
      "     'KB_JB838_1950-09-04_01-00005.txt',\n",
      "     'KB_JB838_1950-09-04_01-00006.txt',\n",
      "     'KB_JB838_1950-09-17_01-00011.txt',\n",
      "     'KB_JB838_1950-10-01_01-00004.txt',\n",
      "     'KB_JB838_1950-10-09_01-00005.txt',\n",
      "     'KB_JB838_1950-10-16_01-00004.txt',\n",
      "     'KB_JB838_1950-10-17_01-00006.txt',\n",
      "     'KB_JB838_1950-10-28_01-00005.txt',\n",
      "     'KB_JB838_1950-10-29_01-00006.txt',\n",
      "     'KB_JB838_1950-10-30_01-00003.txt',\n",
      "     'KB_JB838_1950-11-06_01-00006.txt',\n",
      "     'KB_JB838_1950-11-14_01-00004.txt',\n",
      "     'KB_JB838_1950-11-21_01-00004.txt',\n",
      "     'KB_JB838_1950-11-28_01-00003.txt',\n",
      "     'KB_JB838_1950-12-02_01-00004.txt',\n",
      "     'KB_JB838_1950-12-06_01-00001.txt',\n",
      "     'KB_JB838_1950-12-16_01-00003.txt',\n",
      "     'KB_JB838_1950-12-17_01-00024.txt',\n",
      "     'KB_JB838_1950-12-19_01-00014.txt',\n",
      "     'KB_JB838_1950-12-29_01-00006.txt',\n",
      "     'KB_JB838_1951-01-06_01-00004.txt',\n",
      "     'KB_JB838_1951-01-07_01-00002.txt',\n",
      "     'KB_JB838_1951-01-11_01-00004.txt',\n",
      "     'KB_JB838_1951-01-17_01-00005.txt',\n",
      "     'KB_JB838_1951-01-26_01-00005.txt',\n",
      "     'KB_JB838_1951-01-28_01-00005.txt',\n",
      "     'KB_JB838_1951-02-06_01-00005.txt',\n",
      "     'KB_JB838_1951-02-16_01-00006.txt',\n",
      "     'KB_JB838_1951-02-16_01-00010.txt',\n",
      "     'KB_JB838_1951-03-06_01-00003.txt',\n",
      "     'KB_JB838_1951-03-16_01-00018.txt',\n",
      "     'KB_JB838_1951-03-17_01-00004.txt',\n",
      "     'KB_JB838_1951-03-27_01-00002.txt',\n",
      "     'KB_JB838_1951-03-28_01-00007.txt',\n",
      "     'KB_JB838_1951-03-31_01-00002.txt',\n",
      "     'KB_JB838_1951-03-31_01-00018.txt',\n",
      "     'KB_JB838_1951-04-09_01-00003.txt',\n",
      "     'KB_JB838_1951-04-13_01-00016.txt',\n",
      "     'KB_JB838_1951-04-21_01-00007.txt',\n",
      "     'KB_JB838_1951-04-29_01-00006.txt',\n",
      "     'KB_JB838_1951-04-29_01-00009.txt',\n",
      "     'KB_JB838_1951-05-01_01-00002.txt',\n",
      "     'KB_JB838_1951-05-03_01-00001.txt',\n",
      "     'KB_JB838_1951-05-05_01-00003.txt',\n",
      "     'KB_JB838_1951-05-10_01-00004.txt',\n",
      "     'KB_JB838_1951-05-16_01-00005.txt',\n",
      "     'KB_JB838_1951-05-25_01-00020.txt',\n",
      "     'KB_JB838_1951-06-05_01-00003.txt',\n",
      "     'KB_JB838_1951-06-08_01-00001.txt',\n",
      "     'KB_JB838_1951-06-10_01-00006.txt',\n",
      "     'KB_JB838_1951-06-13_01-00002.txt',\n",
      "     'KB_JB838_1951-06-17_01-00012.txt',\n",
      "     'KB_JB838_1951-06-19_01-00002.txt',\n",
      "     'KB_JB838_1951-06-19_01-00005.txt',\n",
      "     'KB_JB838_1951-07-07_01-00008.txt',\n",
      "     'KB_JB838_1951-07-20_01-00002.txt',\n",
      "     'KB_JB838_1951-07-22_01-00004.txt',\n",
      "     'KB_JB838_1951-08-09_01-00006.txt',\n",
      "     'KB_JB838_1951-08-14_01-00006.txt',\n",
      "     'KB_JB838_1951-08-27_01-00004.txt',\n",
      "     'KB_JB838_1951-09-03_01-00006.txt',\n",
      "     'KB_JB838_1951-09-04_01-00002.txt',\n",
      "     'KB_JB838_1951-09-30_01-00008.txt',\n",
      "     'KB_JB838_1951-10-01_01-00001.txt',\n",
      "     'KB_JB838_1951-10-23_01-00008.txt',\n",
      "     'KB_JB838_1951-10-25_01-00004.txt',\n",
      "     'KB_JB838_1951-10-29_01-00004.txt',\n",
      "     'KB_JB838_1951-11-03_01-00020.txt',\n",
      "     'KB_JB838_1951-11-05_01-00006.txt',\n",
      "     'KB_JB838_1951-11-19_01-00007.txt',\n",
      "     'KB_JB838_1951-11-20_01-00001.txt',\n",
      "     'KB_JB838_1951-11-25_01-00011.txt',\n",
      "     'KB_JB838_1951-11-28_01-00003.txt',\n",
      "     'KB_JB838_1951-12-09_01-00005.txt',\n",
      "     'KB_JB838_1951-12-27_01-00002.txt',\n",
      "     'KB_JB838_1951-12-30_01-00003.txt',\n",
      "     'KB_JB838_1952-01-01_01-00003.txt',\n",
      "     'KB_JB838_1952-01-04_01-00008.txt',\n",
      "     'KB_JB838_1952-01-12_01-00008.txt',\n",
      "     'KB_JB838_1952-01-13_01-00002.txt',\n",
      "     'KB_JB838_1952-01-23_01-00007.txt',\n",
      "     'KB_JB838_1952-01-30_01-00005.txt',\n",
      "     'KB_JB838_1952-01-31_01-00007.txt',\n",
      "     'KB_JB838_1952-02-04_01-00001.txt',\n",
      "     'KB_JB838_1952-02-04_01-00005.txt',\n",
      "     'KB_JB838_1952-02-14_01-00006.txt',\n",
      "     'KB_JB838_1952-02-15_01-00002.txt',\n",
      "     'KB_JB838_1952-02-22_01-00004.txt',\n",
      "     'KB_JB838_1952-03-01_01-00009.txt',\n",
      "     'KB_JB838_1952-03-03_01-00002.txt',\n",
      "     'KB_JB838_1952-03-10_01-00001.txt',\n",
      "     'KB_JB838_1952-03-14_01-00007.txt',\n",
      "     'KB_JB838_1952-03-16_01-00003.txt',\n",
      "     'KB_JB838_1952-03-16_01-00013.txt',\n",
      "     'KB_JB838_1952-03-20_01-00001.txt',\n",
      "     'KB_JB838_1952-03-23_01-00011.txt',\n",
      "     'KB_JB838_1952-04-02_01-00006.txt',\n",
      "     'KB_JB838_1952-04-18_01-00004.txt',\n",
      "     'KB_JB838_1952-04-21_01-00001.txt',\n",
      "     'KB_JB838_1952-04-25_01-00002.txt',\n",
      "     'KB_JB838_1952-05-04_01-00001.txt',\n",
      "     'KB_JB838_1952-05-07_01-00004.txt',\n",
      "     'KB_JB838_1952-05-10_01-00007.txt',\n",
      "     'KB_JB838_1952-05-23_01-00005.txt',\n",
      "     'KB_JB838_1952-05-25_01-00003.txt',\n",
      "     'KB_JB838_1952-05-29_01-00006.txt',\n",
      "     'KB_JB838_1952-06-07_01-00003.txt',\n",
      "     'KB_JB838_1952-06-09_01-00003.txt',\n",
      "     'KB_JB838_1952-06-12_01-00005.txt',\n",
      "     'KB_JB838_1952-06-19_01-00003.txt',\n",
      "     'KB_JB838_1952-06-25_01-00002.txt',\n",
      "     'KB_JB838_1952-06-27_01-00003.txt',\n",
      "     'KB_JB838_1952-06-30_01-00006.txt',\n",
      "     'KB_JB838_1952-07-03_01-00005.txt',\n",
      "     'KB_JB838_1952-07-29_01-00003.txt',\n",
      "     'KB_JB838_1952-08-09_01-00005.txt',\n",
      "     'KB_JB838_1952-08-09_01-00006.txt',\n",
      "     'KB_JB838_1952-08-25_01-00004.txt',\n",
      "     'KB_JB838_1952-09-14_01-00013.txt',\n",
      "     'KB_JB838_1952-09-28_01-00007.txt',\n",
      "     'KB_JB838_1952-09-28_01-00012.txt',\n",
      "     'KB_JB838_1952-10-01_01-00004.txt',\n",
      "     'KB_JB838_1952-10-05_01-00012.txt',\n",
      "     'KB_JB838_1952-10-10_01-00005.txt',\n",
      "     'KB_JB838_1952-10-11_01-00003.txt',\n",
      "     'KB_JB838_1952-10-17_01-00003.txt',\n",
      "     'KB_JB838_1952-10-19_01-00009.txt',\n",
      "     'KB_JB838_1952-11-01_01-00004.txt',\n",
      "     'KB_JB838_1952-11-03_01-00004.txt',\n",
      "     'KB_JB838_1952-11-05_01-00016.txt',\n",
      "     'KB_JB838_1952-11-15_01-00009.txt',\n",
      "     'KB_JB838_1952-11-16_01-00014.txt',\n",
      "     'KB_JB838_1952-11-22_01-00001.txt',\n",
      "     'KB_JB838_1952-11-26_01-00009.txt',\n",
      "     'KB_JB838_1952-11-30_01-00006.txt',\n",
      "     'KB_JB838_1952-12-17_01-00008.txt',\n",
      "     'KB_JB838_1952-12-18_01-00005.txt',\n",
      "     'KB_JB838_1952-12-19_01-00001.txt',\n",
      "     'KB_JB838_1952-12-24_01-00007.txt',\n",
      "     'KB_JB838_1952-12-24_01-00008.txt',\n",
      "     'KB_JB838_1953-01-03_01-00011.txt',\n",
      "     'KB_JB838_1953-01-16_01-00002.txt',\n",
      "     'KB_JB838_1953-01-18_01-00023.txt',\n",
      "     'KB_JB838_1953-02-02_01-00003.txt',\n",
      "     'KB_JB838_1953-02-12_01-00001.txt',\n",
      "     'KB_JB838_1953-02-14_01-00007.txt',\n",
      "     'KB_JB838_1953-02-17_01-00009.txt',\n",
      "     'KB_JB838_1953-02-24_01-00002.txt',\n",
      "     'KB_JB838_1953-02-27_01-00001.txt',\n",
      "     'KB_JB838_1953-03-08_01-00001.txt',\n",
      "     'KB_JB838_1953-03-30_01-00001.txt',\n",
      "     'KB_JB838_1953-03-30_01-00002.txt',\n",
      "     'KB_JB838_1953-04-04_01-00008.txt',\n",
      "     'KB_JB838_1953-04-05_01-00009.txt',\n",
      "     'KB_JB838_1953-04-12_01-00007.txt',\n",
      "     'KB_JB838_1953-04-23_01-00005.txt',\n",
      "     'KB_JB838_1953-04-25_01-00001.txt',\n",
      "     'KB_JB838_1953-04-30_01-00004.txt',\n",
      "     'KB_JB838_1953-05-03_01-00013.txt',\n",
      "     'KB_JB838_1953-05-23_01-00010.txt',\n",
      "     'KB_JB838_1953-05-30_01-00005.txt',\n",
      "     'KB_JB838_1953-06-03_01-00002.txt',\n",
      "     'KB_JB838_1953-06-08_01-00007.txt',\n",
      "     'KB_JB838_1953-06-09_01-00002.txt',\n",
      "     'KB_JB838_1953-06-09_01-00006.txt',\n",
      "     'KB_JB838_1953-06-18_01-00001.txt',\n",
      "     'KB_JB838_1953-06-18_01-00007.txt',\n",
      "     'KB_JB838_1953-06-18_01-00008.txt',\n",
      "     'KB_JB838_1953-06-24_01-00006.txt',\n",
      "     'KB_JB838_1953-06-29_01-00002.txt',\n",
      "     'KB_JB838_1953-07-09_01-00002.txt',\n",
      "     'KB_JB838_1953-07-17_01-00008.txt',\n",
      "     'KB_JB838_1953-07-26_01-00001.txt',\n",
      "     'KB_JB838_1953-08-06_01-00008.txt',\n",
      "     'KB_JB838_1953-08-10_01-00006.txt',\n",
      "     'KB_JB838_1953-08-14_01-00009.txt',\n",
      "     'KB_JB838_1953-08-15_01-00011.txt',\n",
      "     'KB_JB838_1953-08-29_01-00002.txt',\n",
      "     'KB_JB838_1953-09-07_01-00003.txt',\n",
      "     'KB_JB838_1953-09-09_01-00005.txt',\n",
      "     'KB_JB838_1953-09-13_01-00002.txt',\n",
      "     'KB_JB838_1953-09-20_01-00002.txt',\n",
      "     'KB_JB838_1953-10-07_01-00001.txt',\n",
      "     'KB_JB838_1953-10-07_01-00008.txt',\n",
      "     'KB_JB838_1953-10-10_01-00006.txt',\n",
      "     'KB_JB838_1953-10-18_01-00012.txt',\n",
      "     'KB_JB838_1953-10-19_01-00010.txt',\n",
      "     'KB_JB838_1953-10-25_01-00024.txt',\n",
      "     'KB_JB838_1953-10-30_01-00005.txt',\n",
      "     'KB_JB838_1953-11-01_01-00013.txt',\n",
      "     'KB_JB838_1953-11-03_01-00002.txt',\n",
      "     'KB_JB838_1953-11-06_01-00004.txt',\n",
      "     'KB_JB838_1953-11-08_01-00007.txt',\n",
      "     'KB_JB838_1953-11-11_01-00008.txt',\n",
      "     'KB_JB838_1953-11-13_01-00003.txt',\n",
      "     'KB_JB838_1953-11-14_01-00008.txt',\n",
      "     'KB_JB838_1953-11-18_01-00001.txt',\n",
      "     'KB_JB838_1953-11-28_01-00004.txt',\n",
      "     'KB_JB838_1953-12-03_01-00002.txt',\n",
      "     'KB_JB838_1953-12-03_01-00004.txt',\n",
      "     'KB_JB838_1953-12-11_01-00008.txt',\n",
      "     'KB_JB838_1953-12-12_01-00003.txt',\n",
      "     'KB_JB838_1953-12-12_01-00007.txt',\n",
      "     'KB_JB838_1953-12-16_01-00008.txt',\n",
      "     'KB_JB838_1953-12-25_01-00003.txt',\n",
      "     'KB_JB838_1954-01-03_01-00005.txt',\n",
      "     'KB_JB838_1954-01-04_01-00005.txt',\n",
      "     'KB_JB838_1954-01-11_01-00002.txt',\n",
      "     'KB_JB838_1954-01-20_01-00005.txt',\n",
      "     'KB_JB838_1954-02-09_01-00006.txt',\n",
      "     'KB_JB838_1954-02-12_01-00001.txt',\n",
      "     'KB_JB838_1954-02-18_01-00006.txt',\n",
      "     'KB_JB838_1954-02-20_01-00004.txt',\n",
      "     'KB_JB838_1954-02-22_01-00007.txt',\n",
      "     'KB_JB838_1954-02-24_01-00007.txt',\n",
      "     'KB_JB838_1954-02-25_01-00005.txt',\n",
      "     'KB_JB838_1954-02-28_01-00004.txt',\n",
      "     'KB_JB838_1954-03-06_01-00009.txt',\n",
      "     'KB_JB838_1954-03-10_01-00009.txt',\n",
      "     'KB_JB838_1954-03-17_01-00001.txt',\n",
      "     'KB_JB838_1954-03-25_01-00002.txt',\n",
      "     'KB_JB838_1954-03-28_01-00010.txt',\n",
      "     'KB_JB838_1954-04-01_01-00002.txt',\n",
      "     'KB_JB838_1954-04-14_01-00003.txt',\n",
      "     'KB_JB838_1954-04-16_01-00005.txt',\n",
      "     'KB_JB838_1954-04-17_01-00010.txt',\n",
      "     'KB_JB838_1954-04-24_01-00012.txt',\n",
      "     'KB_JB838_1954-04-25_01-00011.txt',\n",
      "     'KB_JB838_1954-04-28_01-00005.txt',\n",
      "     'KB_JB838_1954-05-01_01-00012.txt',\n",
      "     'KB_JB838_1954-05-13_01-00008.txt',\n",
      "     'KB_JB838_1954-05-13_01-00010.txt',\n",
      "     'KB_JB838_1954-05-17_01-00002.txt',\n",
      "     'KB_JB838_1954-05-26_01-00007.txt',\n",
      "     'KB_JB838_1954-05-29_01-00013.txt',\n",
      "     'KB_JB838_1954-06-03_01-00006.txt',\n",
      "     'KB_JB838_1954-06-03_01-00008.txt',\n",
      "     'KB_JB838_1954-06-10_01-00006.txt',\n",
      "     'KB_JB838_1954-06-14_01-00008.txt',\n",
      "     'KB_JB838_1954-06-19_01-00002.txt',\n",
      "     'KB_JB838_1954-06-20_01-00005.txt',\n",
      "     'KB_JB838_1954-06-22_01-00001.txt',\n",
      "     'KB_JB838_1954-07-03_01-00007.txt',\n",
      "     'KB_JB838_1954-07-10_01-00005.txt',\n",
      "     'KB_JB838_1954-07-21_01-00009.txt',\n",
      "     'KB_JB838_1954-08-17_01-00006.txt',\n",
      "     'KB_JB838_1954-08-29_01-00009.txt',\n",
      "     'KB_JB838_1954-09-02_01-00004.txt',\n",
      "     'KB_JB838_1954-09-11_01-00004.txt',\n",
      "     'KB_JB838_1954-09-19_01-00001.txt',\n",
      "     'KB_JB838_1954-09-19_01-00002.txt',\n",
      "     'KB_JB838_1954-10-06_01-00001.txt',\n",
      "     'KB_JB838_1954-10-09_01-00003.txt',\n",
      "     'KB_JB838_1954-10-10_01-00013.txt',\n",
      "     'KB_JB838_1954-10-13_01-00020.txt',\n",
      "     'KB_JB838_1954-10-18_01-00011.txt',\n",
      "     'KB_JB838_1954-10-22_01-00006.txt',\n",
      "     'KB_JB838_1954-10-27_01-00004.txt',\n",
      "     'KB_JB838_1954-11-08_01-00009.txt',\n",
      "     'KB_JB838_1954-11-13_01-00001.txt',\n",
      "     'KB_JB838_1954-11-20_01-00001.txt',\n",
      "     'KB_JB838_1954-11-21_01-00024.txt',\n",
      "     'KB_JB838_1954-11-24_01-00009.txt',\n",
      "     'KB_JB838_1955-01-01_01-00001.txt',\n",
      "     'KB_JB838_1955-01-06_01-00007.txt',\n",
      "     'KB_JB838_1955-01-17_01-00001.txt',\n",
      "     'KB_JB838_1955-01-23_01-00002.txt',\n",
      "     'KB_JB838_1955-01-25_01-00001.txt',\n",
      "     'KB_JB838_1955-01-25_01-00005.txt',\n",
      "     'KB_JB838_1955-01-31_01-00003.txt',\n",
      "     'KB_JB838_1955-02-03_01-00008.txt',\n",
      "     'KB_JB838_1955-02-22_01-00009.txt',\n",
      "     'KB_JB838_1955-03-06_01-00011.txt',\n",
      "     'KB_JB838_1955-03-15_01-00003.txt',\n",
      "     'KB_JB838_1955-03-16_01-00005.txt',\n",
      "     'KB_JB838_1955-03-20_01-00006.txt',\n",
      "     'KB_JB838_1955-03-21_01-00007.txt',\n",
      "     'KB_JB838_1955-03-29_01-00005.txt',\n",
      "     'KB_JB838_1955-03-30_01-00001.txt',\n",
      "     'KB_JB838_1955-04-03_01-00007.txt',\n",
      "     'KB_JB838_1955-04-07_01-00008.txt',\n",
      "     'KB_JB838_1955-04-07_01-00014.txt',\n",
      "     'KB_JB838_1955-04-08_01-00006.txt',\n",
      "     'KB_JB838_1955-04-13_01-00008.txt',\n",
      "     'KB_JB838_1955-04-15_01-00003.txt',\n",
      "     'KB_JB838_1955-05-09_01-00003.txt',\n",
      "     'KB_JB838_1955-05-12_01-00008.txt',\n",
      "     'KB_JB838_1955-05-17_01-00004.txt',\n",
      "     'KB_JB838_1955-05-22_01-00007.txt',\n",
      "     'KB_JB838_1955-05-27_01-00010.txt',\n",
      "     'KB_JB838_1955-06-11_01-00024.txt',\n",
      "     'KB_JB838_1955-06-23_01-00006.txt',\n",
      "     'KB_JB838_1955-06-23_01-00007.txt',\n",
      "     'KB_JB838_1955-06-28_01-00004.txt',\n",
      "     'KB_JB838_1955-06-30_01-00003.txt',\n",
      "     'KB_JB838_1955-07-05_01-00001.txt',\n",
      "     'KB_JB838_1955-07-15_01-00001.txt',\n",
      "     'KB_JB838_1955-07-16_01-00010.txt',\n",
      "     'KB_JB838_1955-07-20_01-00004.txt',\n",
      "     'KB_JB838_1955-07-23_01-00007.txt',\n",
      "     'KB_JB838_1955-08-07_01-00011.txt',\n",
      "     'KB_JB838_1955-08-25_01-00002.txt',\n",
      "     'KB_JB838_1955-08-27_01-00008.txt',\n",
      "     'KB_JB838_1955-09-02_01-00005.txt',\n",
      "     'KB_JB838_1955-09-04_01-00011.txt',\n",
      "     'KB_JB838_1955-09-08_01-00010.txt',\n",
      "     'KB_JB838_1955-09-18_01-00004.txt',\n",
      "     'KB_JB838_1955-09-18_01-00024.txt',\n",
      "     'KB_JB838_1955-09-26_01-00010.txt',\n",
      "     'KB_JB838_1955-09-30_01-00006.txt',\n",
      "     'KB_JB838_1955-10-03_01-00006.txt',\n",
      "     'KB_JB838_1955-10-10_01-00002.txt',\n",
      "     'KB_JB838_1955-10-11_01-00008.txt',\n",
      "     'KB_JB838_1955-10-21_01-00006.txt',\n",
      "     'KB_JB838_1955-11-03_01-00004.txt',\n",
      "     'KB_JB838_1955-11-05_01-00024.txt',\n",
      "     'KB_JB838_1955-11-06_01-00002.txt',\n",
      "     'KB_JB838_1955-11-08_01-00003.txt',\n",
      "     'KB_JB838_1955-11-10_01-00002.txt',\n",
      "     'KB_JB838_1955-11-21_01-00013.txt',\n",
      "     'KB_JB838_1955-11-23_01-00007.txt',\n",
      "     'KB_JB838_1955-11-25_01-00011.txt',\n",
      "     'KB_JB838_1955-11-30_01-00009.txt',\n",
      "     'KB_JB838_1955-12-07_01-00003.txt',\n",
      "     'KB_JB838_1955-12-10_01-00024.txt',\n",
      "     'KB_JB838_1955-12-21_01-00011.txt',\n",
      "     'KB_JB838_1955-12-22_01-00004.txt',\n",
      "     'KB_JB838_1956-01-10_01-00009.txt',\n",
      "     'KB_JB838_1956-01-22_01-00013.txt',\n",
      "     'KB_JB838_1956-01-31_01-00007.txt',\n",
      "     'KB_JB838_1956-02-01_01-00009.txt',\n",
      "     'KB_JB838_1956-02-15_01-00007.txt',\n",
      "     'KB_JB838_1956-02-19_01-00001.txt',\n",
      "     'KB_JB838_1956-02-21_01-00014.txt',\n",
      "     'KB_JB838_1956-02-22_01-00010.txt',\n",
      "     'KB_JB838_1956-02-26_01-00007.txt',\n",
      "     'KB_JB838_1956-02-27_01-00004.txt',\n",
      "     'KB_JB838_1956-02-28_01-00004.txt',\n",
      "     'KB_JB838_1956-02-29_01-00004.txt',\n",
      "     'KB_JB838_1956-02-29_01-00008.txt',\n",
      "     'KB_JB838_1956-03-20_01-00008.txt',\n",
      "     'KB_JB838_1956-03-20_01-00009.txt',\n",
      "     'KB_JB838_1956-03-21_01-00010.txt',\n",
      "     'KB_JB838_1956-03-27_01-00008.txt',\n",
      "     'KB_JB838_1956-03-31_01-00003.txt',\n",
      "     'KB_JB838_1956-04-05_01-00011.txt',\n",
      "     'KB_JB838_1956-05-06_01-00012.txt',\n",
      "     'KB_JB838_1956-05-07_01-00009.txt',\n",
      "     'KB_JB838_1956-05-08_01-00007.txt',\n",
      "     'KB_JB838_1956-05-11_01-00002.txt',\n",
      "     'KB_JB838_1956-05-12_01-00009.txt',\n",
      "     'KB_JB838_1956-05-18_01-00004.txt',\n",
      "     'KB_JB838_1956-05-23_01-00007.txt',\n",
      "     'KB_JB838_1956-06-02_01-00002.txt',\n",
      "     'KB_JB838_1956-06-02_01-00008.txt',\n",
      "     'KB_JB838_1956-06-04_01-00006.txt',\n",
      "     'KB_JB838_1956-06-29_01-00012.txt',\n",
      "     'KB_JB838_1956-06-30_01-00005.txt',\n",
      "     'KB_JB838_1956-07-04_01-00005.txt',\n",
      "     'KB_JB838_1956-07-08_01-00011.txt',\n",
      "     'KB_JB838_1956-07-12_01-00010.txt',\n",
      "     'KB_JB838_1956-08-10_01-00010.txt',\n",
      "     'KB_JB838_1956-08-14_01-00001.txt',\n",
      "     'KB_JB838_1956-08-19_01-00012.txt',\n",
      "     'KB_JB838_1956-08-23_01-00012.txt',\n",
      "     'KB_JB838_1956-08-24_01-00004.txt',\n",
      "     'KB_JB838_1956-08-24_01-00008.txt',\n",
      "     'KB_JB838_1956-08-24_01-00010.txt',\n",
      "     'KB_JB838_1956-09-05_01-00009.txt',\n",
      "     'KB_JB838_1956-09-20_01-00010.txt',\n",
      "     'KB_JB838_1956-10-03_01-00010.txt',\n",
      "     'KB_JB838_1956-10-07_01-00011.txt',\n",
      "     'KB_JB838_1956-10-09_01-00012.txt',\n",
      "     'KB_JB838_1956-10-10_01-00009.txt',\n",
      "     'KB_JB838_1956-10-19_01-00004.txt',\n",
      "     'KB_JB838_1956-10-21_01-00012.txt',\n",
      "     'KB_JB838_1956-10-28_01-00011.txt',\n",
      "     'KB_JB838_1956-11-06_01-00005.txt',\n",
      "     'KB_JB838_1956-11-11_01-00009.txt',\n",
      "     'KB_JB838_1956-11-15_01-00008.txt',\n",
      "     'KB_JB838_1956-12-07_01-00007.txt',\n",
      "     'KB_JB838_1956-12-07_01-00013.txt',\n",
      "     'KB_JB838_1956-12-11_01-00006.txt',\n",
      "     'KB_JB838_1956-12-11_01-00007.txt',\n",
      "     'KB_JB838_1956-12-17_01-00004.txt',\n",
      "     'KB_JB838_1956-12-20_01-00006.txt',\n",
      "     'KB_JB838_1956-12-27_01-00010.txt',\n",
      "     'KB_JB838_1957-01-04_01-00012.txt',\n",
      "     'KB_JB838_1957-01-20_01-00005.txt',\n",
      "     'KB_JB838_1957-01-21_01-00009.txt',\n",
      "     'KB_JB838_1957-01-27_01-00011.txt',\n",
      "     'KB_JB838_1957-02-09_01-00005.txt',\n",
      "     'KB_JB838_1957-02-11_01-00009.txt',\n",
      "     'KB_JB838_1957-02-19_01-00016.txt',\n",
      "     'KB_JB838_1957-03-02_01-00009.txt',\n",
      "     'KB_JB838_1957-03-09_01-00006.txt',\n",
      "     'KB_JB838_1957-03-11_01-00001.txt',\n",
      "     'KB_JB838_1957-03-13_01-00003.txt',\n",
      "     'KB_JB838_1957-03-13_01-00004.txt',\n",
      "     'KB_JB838_1957-03-22_01-00009.txt',\n",
      "     'KB_JB838_1957-03-24_01-00004.txt',\n",
      "     'KB_JB838_1957-04-03_01-00010.txt',\n",
      "     'KB_JB838_1957-04-08_01-00003.txt',\n",
      "     'KB_JB838_1957-04-10_01-00011.txt',\n",
      "     'KB_JB838_1957-04-11_01-00002.txt',\n",
      "     'KB_JB838_1957-04-11_01-00011.txt',\n",
      "     'KB_JB838_1957-04-14_01-00007.txt',\n",
      "     'KB_JB838_1957-04-15_01-00002.txt',\n",
      "     'KB_JB838_1957-04-15_01-00003.txt',\n",
      "     'KB_JB838_1957-04-16_01-00010.txt',\n",
      "     'KB_JB838_1957-04-20_01-00005.txt',\n",
      "     'KB_JB838_1957-04-21_01-00003.txt',\n",
      "     'KB_JB838_1957-04-22_01-00008.txt',\n",
      "     'KB_JB838_1957-04-24_01-00009.txt',\n",
      "     'KB_JB838_1957-04-26_01-00008.txt',\n",
      "     'KB_JB838_1957-04-28_01-00001.txt',\n",
      "     'KB_JB838_1957-05-08_01-00005.txt',\n",
      "     'KB_JB838_1957-05-08_01-00009.txt',\n",
      "     'KB_JB838_1957-05-09_01-00002.txt',\n",
      "     'KB_JB838_1957-05-18_01-00005.txt',\n",
      "     'KB_JB838_1957-05-25_01-00007.txt',\n",
      "     'KB_JB838_1957-06-01_01-00004.txt',\n",
      "     'KB_JB838_1957-06-15_01-00005.txt',\n",
      "     'KB_JB838_1957-07-06_01-00001.txt',\n",
      "     'KB_JB838_1957-08-05_01-00005.txt',\n",
      "     'KB_JB838_1957-08-05_01-00008.txt',\n",
      "     'KB_JB838_1957-08-11_01-00007.txt',\n",
      "     'KB_JB838_1957-08-20_01-00005.txt',\n",
      "     'KB_JB838_1957-08-22_01-00007.txt',\n",
      "     'KB_JB838_1957-08-30_01-00018.txt',\n",
      "     'KB_JB838_1957-09-05_01-00008.txt',\n",
      "     'KB_JB838_1957-09-13_01-00007.txt',\n",
      "     'KB_JB838_1957-09-19_01-00009.txt',\n",
      "     'KB_JB838_1957-09-29_01-00014.txt',\n",
      "     'KB_JB838_1957-10-03_01-00005.txt',\n",
      "     'KB_JB838_1957-10-06_01-00008.txt',\n",
      "     'KB_JB838_1957-10-07_01-00006.txt',\n",
      "     'KB_JB838_1957-10-09_01-00002.txt',\n",
      "     'KB_JB838_1957-10-15_01-00018.txt',\n",
      "     'KB_JB838_1957-10-19_01-00003.txt',\n",
      "     'KB_JB838_1957-10-23_01-00011.txt',\n",
      "     'KB_JB838_1957-10-25_01-00006.txt',\n",
      "     'KB_JB838_1957-10-31_01-00001.txt',\n",
      "     'KB_JB838_1957-10-31_01-00003.txt',\n",
      "     'KB_JB838_1957-11-03_01-00005.txt',\n",
      "     'KB_JB838_1957-11-12_01-00009.txt',\n",
      "     'KB_JB838_1957-11-14_01-00011.txt',\n",
      "     'KB_JB838_1957-11-20_01-00005.txt',\n",
      "     'KB_JB838_1957-11-25_01-00008.txt',\n",
      "     'KB_JB838_1957-11-26_01-00007.txt',\n",
      "     'KB_JB838_1957-11-27_01-00002.txt',\n",
      "     'KB_JB838_1957-12-05_01-00009.txt',\n",
      "     'KB_JB838_1957-12-08_01-00024.txt',\n",
      "     'KB_JB838_1957-12-13_01-00008.txt',\n",
      "     'KB_JB838_1957-12-15_01-00011.txt',\n",
      "     'KB_JB838_1957-12-29_01-00010.txt',\n",
      "     'KB_JB838_1958-01-16_01-00003.txt',\n",
      "     'KB_JB838_1958-01-19_01-00009.txt',\n",
      "     'KB_JB838_1958-01-24_01-00014.txt',\n",
      "     'KB_JB838_1958-02-26_01-00003.txt',\n",
      "     'KB_JB838_1958-02-27_01-00011.txt',\n",
      "     'KB_JB838_1958-03-09_01-00005.txt',\n",
      "     'KB_JB838_1958-03-17_01-00006.txt',\n",
      "     'KB_JB838_1958-03-25_01-00006.txt',\n",
      "     'KB_JB838_1958-03-26_01-00001.txt',\n",
      "     'KB_JB838_1958-03-29_01-00011.txt',\n",
      "     'KB_JB838_1958-04-06_01-00011.txt',\n",
      "     'KB_JB838_1958-04-12_01-00008.txt',\n",
      "     'KB_JB838_1958-04-14_01-00004.txt',\n",
      "     'KB_JB838_1958-04-20_01-00012.txt',\n",
      "     'KB_JB838_1958-05-02_01-00003.txt',\n",
      "     'KB_JB838_1958-05-10_01-00011.txt',\n",
      "     'KB_JB838_1958-05-14_01-00002.txt',\n",
      "     'KB_JB838_1958-05-24_01-00004.txt',\n",
      "     'KB_JB838_1958-05-24_01-00008.txt',\n",
      "     'KB_JB838_1958-06-07_01-00024.txt',\n",
      "     'KB_JB838_1958-06-18_01-00003.txt',\n",
      "     'KB_JB838_1958-06-25_01-00012.txt',\n",
      "     'KB_JB838_1958-06-27_01-00010.txt',\n",
      "     'KB_JB838_1958-06-28_01-00004.txt',\n",
      "     'KB_JB838_1958-06-28_01-00009.txt',\n",
      "     'KB_JB838_1958-07-03_01-00006.txt',\n",
      "     'KB_JB838_1958-07-04_01-00002.txt',\n",
      "     'KB_JB838_1958-07-04_01-00007.txt',\n",
      "     'KB_JB838_1958-07-14_01-00007.txt',\n",
      "     'KB_JB838_1958-07-27_01-00009.txt',\n",
      "     'KB_JB838_1958-07-28_01-00005.txt',\n",
      "     'KB_JB838_1958-08-01_01-00002.txt',\n",
      "     'KB_JB838_1958-08-01_01-00004.txt',\n",
      "     'KB_JB838_1958-08-04_01-00008.txt',\n",
      "     'KB_JB838_1958-08-16_01-00005.txt',\n",
      "     'KB_JB838_1958-08-24_01-00009.txt',\n",
      "     'KB_JB838_1958-08-30_01-00003.txt',\n",
      "     'KB_JB838_1958-09-06_01-00017.txt',\n",
      "     'KB_JB838_1958-09-13_01-00001.txt',\n",
      "     'KB_JB838_1958-09-18_01-00006.txt',\n",
      "     'KB_JB838_1958-10-07_01-00007.txt',\n",
      "     'KB_JB838_1958-10-10_01-00007.txt',\n",
      "     'KB_JB838_1958-10-10_01-00010.txt',\n",
      "     'KB_JB838_1958-10-20_01-00005.txt',\n",
      "     'KB_JB838_1958-11-16_01-00005.txt',\n",
      "     'KB_JB838_1958-11-19_01-00010.txt',\n",
      "     'KB_JB838_1958-11-20_01-00012.txt',\n",
      "     'KB_JB838_1958-11-22_01-00002.txt',\n",
      "     'KB_JB838_1958-11-23_01-00014.txt',\n",
      "     'KB_JB838_1958-11-25_01-00005.txt',\n",
      "     'KB_JB838_1958-11-25_01-00011.txt',\n",
      "     'KB_JB838_1958-11-30_01-00007.txt',\n",
      "     'KB_JB838_1958-12-03_01-00002.txt',\n",
      "     'KB_JB838_1958-12-03_01-00008.txt',\n",
      "     'KB_JB838_1958-12-03_01-00011.txt',\n",
      "     'KB_JB838_1958-12-06_01-00002.txt',\n",
      "     'KB_JB838_1958-12-13_01-00019.txt',\n",
      "     'KB_JB838_1958-12-14_01-00006.txt',\n",
      "     'KB_JB838_1958-12-20_01-00002.txt',\n",
      "     'KB_JB838_1958-12-20_01-00007.txt',\n",
      "     'KB_JB838_1958-12-24_01-00010.txt',\n",
      "     'KB_JB838_1959-01-04_01-00003.txt',\n",
      "     'KB_JB838_1959-01-07_01-00006.txt',\n",
      "     'KB_JB838_1959-01-14_01-00009.txt',\n",
      "     'KB_JB838_1959-01-29_01-00010.txt',\n",
      "     'KB_JB838_1959-02-01_01-00013.txt',\n",
      "     'KB_JB838_1959-02-03_01-00006.txt',\n",
      "     'KB_JB838_1959-02-05_01-00004.txt',\n",
      "     'KB_JB838_1959-02-08_01-00004.txt',\n",
      "     'KB_JB838_1959-02-11_01-00003.txt',\n",
      "     'KB_JB838_1959-02-13_01-00009.txt',\n",
      "     'KB_JB838_1959-02-17_01-00004.txt',\n",
      "     'KB_JB838_1959-02-18_01-00010.txt',\n",
      "     'KB_JB838_1959-02-19_01-00014.txt',\n",
      "     'KB_JB838_1959-02-20_01-00003.txt',\n",
      "     'KB_JB838_1959-02-20_01-00005.txt',\n",
      "     'KB_JB838_1959-03-03_01-00014.txt',\n",
      "     'KB_JB838_1959-03-07_01-00010.txt',\n",
      "     'KB_JB838_1959-03-13_01-00001.txt',\n",
      "     'KB_JB838_1959-03-13_01-00005.txt',\n",
      "     'KB_JB838_1959-03-15_01-00007.txt',\n",
      "     'KB_JB838_1959-03-26_01-00012.txt',\n",
      "     'KB_JB838_1959-03-28_01-00009.txt',\n",
      "     'KB_JB838_1959-04-09_01-00005.txt',\n",
      "     'KB_JB838_1959-04-23_01-00014.txt',\n",
      "     'KB_JB838_1959-04-24_01-00002.txt',\n",
      "     'KB_JB838_1959-04-25_01-00001.txt',\n",
      "     'KB_JB838_1959-04-29_01-00005.txt',\n",
      "     'KB_JB838_1959-05-09_01-00001.txt',\n",
      "     'KB_JB838_1959-05-10_01-00013.txt',\n",
      "     'KB_JB838_1959-05-16_01-00010.txt',\n",
      "     'KB_JB838_1959-05-28_01-00001.txt',\n",
      "     'KB_JB838_1959-06-04_01-00005.txt',\n",
      "     'KB_JB838_1959-06-04_01-00010.txt',\n",
      "     'KB_JB838_1959-06-28_01-00002.txt',\n",
      "     'KB_JB838_1959-06-30_01-00001.txt',\n",
      "     'KB_JB838_1959-07-01_01-00009.txt',\n",
      "     'KB_JB838_1959-07-02_01-00001.txt',\n",
      "     'KB_JB838_1959-07-21_01-00010.txt',\n",
      "     'KB_JB838_1959-07-21_01-00011.txt',\n",
      "     'KB_JB838_1959-07-26_01-00013.txt',\n",
      "     'KB_JB838_1959-07-31_01-00004.txt',\n",
      "     'KB_JB838_1959-08-04_01-00003.txt',\n",
      "     'KB_JB838_1959-09-29_01-00008.txt',\n",
      "     'KB_JB838_1959-10-06_01-00003.txt',\n",
      "     'KB_JB838_1959-10-18_01-00015.txt',\n",
      "     'KB_JB838_1959-10-22_01-00014.txt',\n",
      "     'KB_JB838_1959-10-27_01-00007.txt',\n",
      "     'KB_JB838_1959-10-29_01-00012.txt',\n",
      "     'KB_JB838_1959-11-04_01-00010.txt',\n",
      "     'KB_JB838_1959-11-07_01-00010.txt',\n",
      "     'KB_JB838_1959-11-11_01-00011.txt',\n",
      "     'KB_JB838_1959-11-15_01-00002.txt',\n",
      "     'KB_JB838_1959-11-19_01-00007.txt',\n",
      "     'KB_JB838_1959-11-22_01-00002.txt',\n",
      "     'KB_JB838_1959-11-22_01-00004.txt',\n",
      "     'KB_JB838_1959-11-24_01-00006.txt',\n",
      "     'KB_JB838_1959-12-06_01-00008.txt',\n",
      "     'KB_JB838_1959-12-09_01-00002.txt',\n",
      "     'KB_JB838_1959-12-09_01-00011.txt',\n",
      "     'KB_JB838_1959-12-13_01-00008.txt',\n",
      "     'KB_JB838_1959-12-27_01-00006.txt',\n",
      "     'KB_JB838_1959-12-29_01-00012.txt'],\n",
      " 3: ['KB_JB838_1950-01-07_01-00013.txt',\n",
      "     'KB_JB838_1950-02-18_01-00014.txt',\n",
      "     'KB_JB838_1950-02-28_01-00012.txt',\n",
      "     'KB_JB838_1950-03-03_01-00013.txt',\n",
      "     'KB_JB838_1950-03-15_01-00012.txt',\n",
      "     'KB_JB838_1950-04-25_01-00011.txt',\n",
      "     'KB_JB838_1950-05-24_01-00014.txt',\n",
      "     'KB_JB838_1950-06-14_01-00014.txt',\n",
      "     'KB_JB838_1950-07-02_01-00018.txt',\n",
      "     'KB_JB838_1950-11-24_01-00015.txt',\n",
      "     'KB_JB838_1950-11-28_01-00012.txt',\n",
      "     'KB_JB838_1950-11-29_01-00013.txt',\n",
      "     'KB_JB838_1950-12-20_01-00013.txt',\n",
      "     'KB_JB838_1950-12-24_01-00017.txt',\n",
      "     'KB_JB838_1951-01-21_01-00018.txt',\n",
      "     'KB_JB838_1951-03-06_01-00014.txt',\n",
      "     'KB_JB838_1951-08-19_01-00015.txt',\n",
      "     'KB_JB838_1951-08-24_01-00013.txt',\n",
      "     'KB_JB838_1951-09-04_01-00012.txt',\n",
      "     'KB_JB838_1951-09-08_01-00019.txt',\n",
      "     'KB_JB838_1951-09-09_01-00020.txt',\n",
      "     'KB_JB838_1951-09-13_01-00014.txt',\n",
      "     'KB_JB838_1951-11-22_01-00015.txt',\n",
      "     'KB_JB838_1951-12-16_01-00024.txt',\n",
      "     'KB_JB838_1951-12-20_01-00015.txt',\n",
      "     'KB_JB838_1952-01-22_01-00013.txt',\n",
      "     'KB_JB838_1952-01-27_01-00023.txt',\n",
      "     'KB_JB838_1952-02-26_01-00012.txt',\n",
      "     'KB_JB838_1952-03-02_01-00022.txt',\n",
      "     'KB_JB838_1952-04-11_01-00013.txt',\n",
      "     'KB_JB838_1952-07-30_01-00014.txt',\n",
      "     'KB_JB838_1952-09-18_01-00015.txt',\n",
      "     'KB_JB838_1952-11-12_01-00014.txt',\n",
      "     'KB_JB838_1952-11-22_01-00018.txt',\n",
      "     'KB_JB838_1953-01-23_01-00014.txt',\n",
      "     'KB_JB838_1953-04-09_01-00015.txt',\n",
      "     'KB_JB838_1953-04-15_01-00016.txt',\n",
      "     'KB_JB838_1953-05-20_01-00015.txt',\n",
      "     'KB_JB838_1953-07-19_01-00017.txt',\n",
      "     'KB_JB838_1953-09-18_01-00015.txt',\n",
      "     'KB_JB838_1953-09-29_01-00013.txt',\n",
      "     'KB_JB838_1953-10-15_01-00018.txt',\n",
      "     'KB_JB838_1953-12-10_01-00016.txt',\n",
      "     'KB_JB838_1954-01-27_01-00016.txt',\n",
      "     'KB_JB838_1954-03-11_01-00018.txt',\n",
      "     'KB_JB838_1954-03-25_01-00016.txt',\n",
      "     'KB_JB838_1954-04-18_01-00022.txt',\n",
      "     'KB_JB838_1954-04-25_01-00021.txt',\n",
      "     'KB_JB838_1954-06-05_01-00017.txt',\n",
      "     'KB_JB838_1954-06-18_01-00016.txt',\n",
      "     'KB_JB838_1954-06-20_01-00022.txt',\n",
      "     'KB_JB838_1954-07-08_01-00015.txt',\n",
      "     'KB_JB838_1954-07-24_01-00015.txt',\n",
      "     'KB_JB838_1954-11-25_01-00020.txt',\n",
      "     'KB_JB838_1954-12-30_01-00016.txt',\n",
      "     'KB_JB838_1955-02-17_01-00020.txt',\n",
      "     'KB_JB838_1955-03-12_01-00020.txt',\n",
      "     'KB_JB838_1955-04-03_01-00022.txt',\n",
      "     'KB_JB838_1955-05-08_01-00021.txt',\n",
      "     'KB_JB838_1955-06-23_01-00019.txt',\n",
      "     'KB_JB838_1955-06-26_01-00022.txt',\n",
      "     'KB_JB838_1955-07-12_01-00015.txt',\n",
      "     'KB_JB838_1955-07-26_01-00013.txt',\n",
      "     'KB_JB838_1955-08-06_01-00016.txt',\n",
      "     'KB_JB838_1955-10-27_01-00024.txt',\n",
      "     'KB_JB838_1956-02-25_01-00018.txt',\n",
      "     'KB_JB838_1956-12-06_01-00022.txt',\n",
      "     'KB_JB838_1956-12-11_01-00016.txt',\n",
      "     'KB_JB838_1956-12-25_01-00017.txt',\n",
      "     'KB_JB838_1957-01-01_01-00014.txt',\n",
      "     'KB_JB838_1957-01-10_01-00020.txt',\n",
      "     'KB_JB838_1957-05-14_01-00018.txt',\n",
      "     'KB_JB838_1957-11-05_01-00015.txt',\n",
      "     'KB_JB838_1958-01-25_01-00019.txt',\n",
      "     'KB_JB838_1958-02-18_01-00015.txt',\n",
      "     'KB_JB838_1958-03-20_01-00023.txt',\n",
      "     'KB_JB838_1958-03-30_01-00023.txt',\n",
      "     'KB_JB838_1958-04-12_01-00023.txt',\n",
      "     'KB_JB838_1958-04-27_01-00023.txt',\n",
      "     'KB_JB838_1958-08-17_01-00017.txt',\n",
      "     'KB_JB838_1958-09-04_01-00021.txt',\n",
      "     'KB_JB838_1958-09-30_01-00015.txt',\n",
      "     'KB_JB838_1958-11-04_01-00015.txt',\n",
      "     'KB_JB838_1958-11-26_01-00019.txt',\n",
      "     'KB_JB838_1959-01-25_01-00024.txt',\n",
      "     'KB_JB838_1959-02-01_01-00023.txt',\n",
      "     'KB_JB838_1959-04-22_01-00020.txt',\n",
      "     'KB_JB838_1959-05-03_01-00024.txt',\n",
      "     'KB_JB838_1959-06-03_01-00019.txt',\n",
      "     'KB_JB838_1959-07-04_01-00021.txt',\n",
      "     'KB_JB838_1959-07-19_01-00019.txt',\n",
      "     'KB_JB838_1959-11-04_01-00019.txt',\n",
      "     'KB_JB838_1959-11-04_01-00020.txt',\n",
      "     'KB_JB838_1959-12-19_01-00023.txt']}\n"
     ]
    }
   ],
   "source": [
    "pprint(dict(clustering))"
   ]
  },
  {
   "cell_type": "markdown",
   "metadata": {},
   "source": [
    "## Visualiser les clusters"
   ]
  },
  {
   "cell_type": "markdown",
   "metadata": {},
   "source": [
    "### Réduire les vecteurs à 2 dimensions à l'aide de l'algorithme PCA\n",
    "Cette étape est nécessaire afin de visualiser les documents dans un espace 2D\n",
    "\n",
    "https://fr.wikipedia.org/wiki/Analyse_en_composantes_principales"
   ]
  },
  {
   "cell_type": "code",
   "execution_count": 31,
   "metadata": {},
   "outputs": [],
   "source": [
    "pca = PCA(n_components=2)\n",
    "reduced_vectors = pca.fit_transform(tfidf_vectors.toarray())"
   ]
  },
  {
   "cell_type": "code",
   "execution_count": 32,
   "metadata": {},
   "outputs": [
    {
     "data": {
      "text/plain": [
       "array([[-0.32605256,  0.11352981],\n",
       "       [ 0.11443706, -0.30121581],\n",
       "       [ 0.44374749, -0.251834  ],\n",
       "       [-0.2392338 , -0.03685966],\n",
       "       [-0.05219372, -0.1041351 ],\n",
       "       [ 0.61193695,  0.50552469],\n",
       "       [-0.20445202, -0.03419623],\n",
       "       [-0.19508296, -0.03696588],\n",
       "       [ 0.62322593,  0.45733878],\n",
       "       [ 0.15728827, -0.01517594]])"
      ]
     },
     "execution_count": 32,
     "metadata": {},
     "output_type": "execute_result"
    }
   ],
   "source": [
    "reduced_vectors[:10]"
   ]
  },
  {
   "cell_type": "markdown",
   "metadata": {},
   "source": [
    "### Générer le plot"
   ]
  },
  {
   "cell_type": "code",
   "execution_count": 33,
   "metadata": {},
   "outputs": [
    {
     "data": {
      "text/plain": [
       "<matplotlib.legend.Legend at 0x2a8ffa75450>"
      ]
     },
     "execution_count": 33,
     "metadata": {},
     "output_type": "execute_result"
    },
    {
     "data": {
      "image/png": "[encoded data removed]",
      "text/plain": [
       "<Figure size 1000x1000 with 1 Axes>"
      ]
     },
     "metadata": {},
     "output_type": "display_data"
    }
   ],
   "source": [
    "x_axis = reduced_vectors[:, 0]\n",
    "y_axis = reduced_vectors[:, 1]\n",
    "\n",
    "plt.figure(figsize=(10,10))\n",
    "scatter = plt.scatter(x_axis, y_axis, s=100, c=clusters)\n",
    "\n",
    "# Ajouter les centroïdes\n",
    "centroids = pca.transform(km_model.cluster_centers_)\n",
    "plt.scatter(centroids[:, 0], centroids[:, 1],  marker = \"x\", s=100, linewidths = 2, color='black')\n",
    "\n",
    "# Ajouter la légende\n",
    "plt.legend(handles=scatter.legend_elements()[0], labels=set(clusters), title=\"Clusters\")"
   ]
  },
  {
   "cell_type": "markdown",
   "metadata": {},
   "source": [
    "# Word Embeddings : le modèle Word2Vec"
   ]
  },
  {
   "cell_type": "markdown",
   "metadata": {},
   "source": [
    "## Imports"
   ]
  },
  {
   "cell_type": "code",
   "execution_count": 34,
   "metadata": {},
   "outputs": [],
   "source": [
    "import sys\n",
    "\n",
    "from gensim.models.phrases import Phrases, Phraser\n",
    "from gensim.models import Word2Vec\n",
    "\n",
    "import nltk\n",
    "from nltk.tokenize import wordpunct_tokenize\n",
    "from unidecode import unidecode"
   ]
  },
  {
   "cell_type": "markdown",
   "metadata": {},
   "source": [
    "## Chargement et traitement des phrases du corpus"
   ]
  },
  {
   "cell_type": "markdown",
   "metadata": {},
   "source": [
    "### Création d'un objet qui *streame* les lignes d'un fichier pour économiser de la RAM"
   ]
  },
  {
   "cell_type": "code",
   "execution_count": 35,
   "metadata": {},
   "outputs": [],
   "source": [
    "class MySentences(object):\n",
    "    \"\"\"Tokenize and Lemmatize sentences\"\"\"\n",
    "    def __init__(self, filename):\n",
    "        self.filename = filename\n",
    "\n",
    "    def __iter__(self):\n",
    "        for line in open(self.filename, encoding='utf-8', errors=\"backslashreplace\"):\n",
    "            yield [unidecode(w.lower()) for w in wordpunct_tokenize(line)]"
   ]
  },
  {
   "cell_type": "code",
   "execution_count": 36,
   "metadata": {},
   "outputs": [],
   "source": [
    "infile = f\"../data/sents.txt\"\n",
    "sentences = MySentences(infile)"
   ]
  },
  {
   "cell_type": "markdown",
   "metadata": {},
   "source": [
    "### Détection des bigrammes\n",
    "\n"
   ]
  },
  {
   "cell_type": "code",
   "execution_count": 37,
   "metadata": {},
   "outputs": [],
   "source": [
    "bigram_phrases = Phrases(sentences)"
   ]
  },
  {
   "cell_type": "code",
   "execution_count": 38,
   "metadata": {},
   "outputs": [
    {
     "data": {
      "text/plain": [
       "dict"
      ]
     },
     "execution_count": 38,
     "metadata": {},
     "output_type": "execute_result"
    }
   ],
   "source": [
    "type(bigram_phrases.vocab)"
   ]
  },
  {
   "cell_type": "code",
   "execution_count": 39,
   "metadata": {},
   "outputs": [
    {
     "data": {
      "text/plain": [
       "15850647"
      ]
     },
     "execution_count": 39,
     "metadata": {},
     "output_type": "execute_result"
    }
   ],
   "source": [
    "len(bigram_phrases.vocab.keys())"
   ]
  },
  {
   "cell_type": "markdown",
   "metadata": {},
   "source": [
    "Prenons une clé au hasard :"
   ]
  },
  {
   "cell_type": "code",
   "execution_count": 41,
   "metadata": {},
   "outputs": [
    {
     "name": "stdout",
     "output_type": "stream",
     "text": [
      "terre\n"
     ]
    }
   ],
   "source": [
    "key_ = list(bigram_phrases.vocab.keys())[320]\n",
    "print(key_)"
   ]
  },
  {
   "cell_type": "markdown",
   "metadata": {},
   "source": [
    "Le dictionnaire indique le score de cette coocurrence :"
   ]
  },
  {
   "cell_type": "code",
   "execution_count": 42,
   "metadata": {},
   "outputs": [
    {
     "data": {
      "text/plain": [
       "22525"
      ]
     },
     "execution_count": 42,
     "metadata": {},
     "output_type": "execute_result"
    }
   ],
   "source": [
    "bigram_phrases.vocab[key_]"
   ]
  },
  {
   "cell_type": "markdown",
   "metadata": {},
   "source": [
    "### Conversion des `Phrases` en objet `Phraser`\n",
    "\n"
   ]
  },
  {
   "cell_type": "code",
   "execution_count": 43,
   "metadata": {},
   "outputs": [],
   "source": [
    "bigram_phraser = Phraser(phrases_model=bigram_phrases)"
   ]
  },
  {
   "cell_type": "markdown",
   "metadata": {},
   "source": [
    "### Extraction des trigrams"
   ]
  },
  {
   "cell_type": "code",
   "execution_count": 44,
   "metadata": {},
   "outputs": [],
   "source": [
    "trigram_phrases = Phrases(bigram_phraser[sentences])"
   ]
  },
  {
   "cell_type": "code",
   "execution_count": 45,
   "metadata": {},
   "outputs": [],
   "source": [
    "trigram_phraser = Phraser(phrases_model=trigram_phrases)"
   ]
  },
  {
   "cell_type": "code",
   "execution_count": 46,
   "metadata": {},
   "outputs": [],
   "source": [
    "trigram_phrases = Phrases(bigram_phraser[sentences])"
   ]
  },
  {
   "cell_type": "markdown",
   "metadata": {},
   "source": [
    "### Création d'un corpus d'unigrams, bigrams, trigrams"
   ]
  },
  {
   "cell_type": "code",
   "execution_count": 47,
   "metadata": {},
   "outputs": [],
   "source": [
    "corpus = list(trigram_phraser[bigram_phraser[sentences]])"
   ]
  },
  {
   "cell_type": "code",
   "execution_count": 48,
   "metadata": {},
   "outputs": [
    {
     "name": "stdout",
     "output_type": "stream",
     "text": [
      "[['mi', 'imnri', 'r', 'i', '<<', 'i', 'i', 'hmu', \"'\", 'i', '/', 'tx', \"-'\", 'l', ':', 'marche', 'tenu', 'hors', 'villa', ',', 'la', '9', '.'], ['--', 'u', 'a', 'ete', 'vaain', 'si', 'teicj', '>>', 'm', 'races_indigenes', 'de', 'fr', '.'], ['31', '<)', 'a', '5s', \"'\", 'k', '131', 'de', '.'], ['rasa', 'iichakdui', \"'\", 'te', ',', 'do', '(', 'r', '.', '3s0', 'h', '710', '.', 'taureaux', 'iallsenas', ',>', 'ia', 'u', '\\\\', '--', 'a', '--', ';', '0ii', '.'], ['hollandais', ',', 'dufr', '.'], ['0', '.'], ['--', 'a', '9', '.--', 'la', 'idto', '-', 'vachei', 'laitieres', ':', 'bn', 'vante', '1q', '.'], ['vendues', '3', '\\\\', 'au', 'prix', 'la', '410', 'a', '*', '<<', 'i', 'h', '\\\\;', 'genisses', ',', 'kl', '.'], [\"'.\", '9', '.'], ['i', 'l', '.', '2', 'i', '.', 'id', '.'], ['da', '370', 'i', '6lutr', '.'], ['marche', 'a', '<', 'u', 'porcs', '.'], ['--', 'categorie', 'de', 'lt', 'ilashtya', ':', \"'\", '237', 'on', 'vente', ';', 'vendus', '1', 'm', '.', 'do', \"'\", '2', 'i', '.--', 'a', ';:,', 'l', '--;', 'i', '.', 'l', '.'], ['des', 't', \"'\", 'innlrov', '-', 'i3ie', ';>>', 'vente', ',', 'vendus', '93', '.', 'de', '32', '.--', 'a', '52', '.--.'], ['xumiir', '.'], ['10', 'a', '*', 'v', '.--_froment', '>>', 'las', '190', 'kit', '..', 'fr', '.'], ['15', '.', '23', ';', 'mi', \"'\", 'te', '>>,', '--;', 'epautre', '.', 'l3', '.--', ';', 'seigle', '.'], ['14', '.', '5', '>;', 'avoine', '.'], ['10', '.', '30', ';', 'orge', '.'], ['--;_feveroles', ',', '22', '.--;_pommes', 'do', 'terre', '.'], ['g', '.--;_paille', ',', 'v', '.', '--;', 'fcin', '.', '6', '.', '50', ':', 'lioumon', ',', '--.'], ['2', \"%'\", 'ivellom', '.'], ['10', 'mv', '.'], ['--', 'froment', ',', 'las', '109_kll', '.,', '(', 'r', '.', '13', '.'], ['--', '\\\\', '--;_selgle', '.', 'ii', '.-;\\\\', '--;_avoine', ',', '16', '.', '509', '-;', 'orge', ',', '17', '30', 'j', '--,--;_escourgeon', '.'], ['#', 'inint', '-', 't', '>>*', 'o', '<<', 'd', ',', '10', 'nov', '.', '--', 'froment', 'je', 'culture', ',', 'par', '400kil', '.,', 'fr', '.'], ['10', '.--', '1', '--.--;', 'm', '.', 'commercial', ',', '16', '.'], ['--', 'a', '--.--,_seigle', '.'], ['13', '.', '50', 'a', '--;_avoine', '.'], ['10', '.', '50', 'a', '--.--;_orge', '.'], ['17', '.--', 'a', '--;_farine', 'ira', 'de', 'froment', ',', '0', '.--', 'a', '0', '.'], ['--;', 'son', 'gros', 'de', 'tco', '*', 'ment', ',', '15', '.--', 'a', '--.--.'], ['huiie', 'de', 'colza', ',', 'par', 'hcctoi', '.,', '--', 'a', '--;', 'u', '.', 'epures', ',', '--~', 'a', ';', 'huile', 'de', 'lin', '.'], ['--,--', 'a', '--;_tourteaux', 'de', 'colza', 'par', '100_kll', '.,', '--', 'a', '--;_id', '.'], ['de', 'lin', ',', '--', 'a', 'i', 'pommes', 'de', 'terre_blanches', ',', '6', '.', '3', '>>', 'a', '0', '.--.'], ['...', ',,', ',,,,', 'paille', ',', 'fi', '.', '50', 'a', '0', '.--;', 'loln', \",'\", '5', '.', '5i', ')', 'a', '0', '.--;_beurre', ',', 'le', 'kilo', '.'], ['2', '.', 'o', 'a', '0', '.--;_oeufs', ',', 'les', '26', ',', '3', '.', '30', 'a', '0', '.--;_genievre', ',', 'l', \"'\", 'uect', '.,', '--', 'a', 'esprit', ',', '0', '.--', 'a', '0', '.--.'], ['tournai', ',', '10', 'nov', '.', '--', 'froment_blaze', ',', 'l', \"'\", 'iiaetoluri', ',', 'fr', '.'], ['--.--', 'a', '--;_froment', ',--', 'u', '--;_metell', ',', '--', 'a', '--;_seigle', ',--.--', 'a', '--;_avoine', ',', '--', 'a', '--;', 'feve', '-', 'roles', ',', '--.--', 'a', '--;_beurre', ',', 'le', 'kilo', ',', '2', '.', '00', 'a', '3', ',', '10', ';', 'oeufs', ',', 'les', '26', ',', '3', '.', '70', 'u3', '.', 'c0', '.'], ['wacrofiliom', ',', '10', 'nov', '.--', 'beurre', '.', 'le', '1', '/', '3', 'il', '-,', '1', '.', '5qa', '1', '.', '60', ',', 'oeufs', ',', 'les', '26', ',', '3', '.', '99', 'a', '1', '.', '16', ';', 'lin', ',', 'les', '100_kilos', ',', '93', '.--', 'a', '145', '.--;_etoupes', ',', 'lee', '1u0', 'kii', '.,', '30', '.--', 'a', '35', '.--;_pommes', 'de', 'terre', ',', 'les', '100', '>', 'il', '.,', '3', '.--', 'a', '3', '.', '50', ';', 'jeune', 'porc', ',', 'la', 'piece', ',', '33', '.--', 'a', '50', '.--;_lapin', '.'], ['2', '.--', 'a', '3', '.', '95', ';', 'poulet', ',', '2', '.', '25', 'a', '3', '.'], ['--.'], ['vin', '-', 'e', '<<,', '10', 'nov', '.', '--', 'froment', ',', 'les', '10j', 'kll', '.,', 'fr', '.'], ['18', '.--', 'a', '19', '.', '59', ';', 'seigle', ',', '16', '.-', 'a', '16', '.', '75', ';', 'avoine', ',', '16', '.--', 'a', '16', '.', '75', ':', 'pois', '--', 'a', '--;_feveroles', ',', '--.--', 'a', '--.--;_pommes', 'de', 'terre', ',', '8', '80', 'a', 'g', '.--*,', 'beurre', ',', 'le', 'kilo', ',', '2', '.', '90', 'a', '3', '.', '20', ';', 'oeufs', ',', 'le', '(', 'iuart3', '-', 'ron', '.'], ['i', '.', '16', 'a', '4', '.', '63', '.'], ['charmanne', '.'], ['consul_general', 'de', 'belgique', 'a', 'ottawa', '(', 'canada', ').', 'a', 'ele', 'nomme_consul', 'general', 'a', 'bang_kok', '(', 'siam', '),', 'avec', 'juridiction', 'sur', 'le', 'siam', 'et', 'les', 'slrails', 'seluements', '.'], ['--', 'm', '.', 'kelels', ',', 'consul', 'de', 'belgique', 'a', 'tien', '-', 'tsin', '(', 'chine', '),', 'a', 'ele', 'nomme_consul', 'a', 'ottawa', '(', 'canada', '),', 'avec', 'juridiction', 'sur', 'la', 'federation', 'canadienne', 'et', 'ja', 'colonie', 'de', 'terre', '-', 'neuve', '.'], ['decoration', 'c', \".'\", 'v', \"'\", 'gae', '.'], ['--', 'la', '.', 'decoration_civique', 'a', 'ele', 'decernee', 'aux', 'agents', 'de', 'l', \"'\", 'administration', 'des', 'postes', ';', 'designes_ci', '-', 'apres', ',', 'savoir', ':', 'la', 'medaille', 'de', 'ire_classe', ':', 'a', 'm', '.', 'billy', '.'], ['facteur_rural', '.'], ['la', 'medaille', 'de', '2e_classe', ':', 'a', 'm', '.', 'goringy', 'facteur', 'local', '.', '.', 'armee', '.'], ['--', 'le', 'sergent', ',', 'en', 'conge_illimite', ',', 'baudouin', '\"', 'est', 'nomme', 'sous', '-', 'lieutenanl', 'payeur', 'de', 'reserve', '.'], ['notariat', '.'], ['--', 'sont_acceptees', 'les', 'demissions', 'de', 'm', '.', 'myin', '.'], ['de', 'ses_fonctions', 'de', 'notaire', 'a', 'la', 'residence', 'd', \"'\", 'anvers', ';', 'do', 'm', '.', 'jadol', ',', 'id', '.'], ['de', 'marche', '.'], ['ecole_militaire', '.'], ['--', 'sont', 'admis', 'a', 'l', \"'\", 'ecole_militaire', ',', 'en', 'qualite', 'd', \"'\", 'eleves', 'de', 'la', '57e', 'promotion', 'de', 'l', \"'\", 'infanterie', 'et', 'ao', 'la', '<', \"'\", '*', \"'\", '*', '-', '\"', 'i', 'cavalerie', ',', 'les', 'jeunes_gens', 'dont', 'les', 'noms_suivent', ':', 'hanon', 'de', 'louvet', ',', 'van_sprang', ',', 'deyloo', ',', 'petit', ',', 'champagne', '.'], ['masui', ',', 'gerard', ',', 'vanneste', ',', 'lallemand', ',', 'van', 'iioeeke', \".'\", 'rigano', '.'], ['ilendrickx', ',', 'von', 'glaboke', ',', 'sou', '-', \"'\", 'moy', '.', 'couturieaux', ',', 'lucion', ',', 'mersch', ',', 'iledo', ',', 'iloudmont', ',', 'de', 'heusch', '.'], ['terfve', '.'], ['labio', ',', 'brabant', ',', 'franckx', ',', 'foulon', ',', 'fiahiiifirh', '.'], ['simmi', '\"', 'tfannatvnin', 'fivnv', '^', 'f', 'h', '-.', 'ilu', '/', 'phnin', '.'], ['u', 'gernaert', ',', 'simon', \",'\", 'henncquin', ',', 'fcro', \"'\", 't', ',', 'g', '->', 'ile', ',', 'i', \"'\", 'orjo', 'e', \"'\", 'y', 'hannus', '.', 'noel', ',', 'flanieng', ',', 'bri', '-', 'matchovelette', ',', 'gondry', ',', 'doux', ',', 'vermeuleu', ',', 'giilo', 'gillot', ',', 'boufvin', '.'], ['borremans', '.'], ['academie_royale_flamande', 'de', 'langue', 'et', 'de', 'litterature', '.'], ['--', 'l', \"'\", 'election', 'faite', 'par', 'l', \"'\", 'academie_flamande', ',', 'dans', 'sa', 'seance', 'du', '17', 'octobre_1906', ',', 'de', 'm', '.', 'le', 'docteur', 'hugo_verriest', ',', 'a', 'ingoyghem', ',', 'en', 'qualite', 'de', 'membre_effectif', ',', 'en', '-', 'remplacement', 'de', 'feu', 'm', '.', 'janssens', ',', 'est_approuvee', '.'], ['sapeurs', '-', 'pompiers_communaux', 'armes', '.'], ['--', 'm', '.', 'pa', '*', 'njels', ',', 'sous', '-', 'fieu', 'tenant', 'au', 'corps', 'arme', 'de', 'sapeurs', '-', 'pom', '-', 'iers', 'communaux', 'de', 'schaerheek', ',', 'est', 'nomme', 'lieule', '-', 'p', 'u', 'teuant', ',-', 'en_remplacement', 'de', 'm', '.', 'verteneuil', ',', 'decede', '.'], ['enseignement_moyen', '.'], ['--', 'mme', 'schaefer', '-', 'misonne', ',.'], ['.', 'directrice', 'a', 'titre_provisoire', 'de', 'l', \"'\", 'ecole_moyenne', 'de', 'l', \"'\", 'elat', 'pour', 'alles', ',', 'a', 'jumet', ',', 'est', 'dechargee', 'des', 'fonciions', 'de', 'regente', 'd', \"'\", 'economie', 'domes', '!'], ['ique', 'a', 'l', \"'\", 'ecole', '\"', 'moyen', 'ne', 'del', \"'\", 'ktai', 'pour', 'ailes', ',', 'a', 'la', 'louviere', '.'], ['--', 'm', '.', 'barzin', 'est', 'decharge', ',', 'sur', 'sa', 'demande', ',', 'des', 'fonctions', 'de', 'regent', 'a', 'l', \"'\", 'ecole_moyenne', 'de', 'l', \"'\", 'etal', 'pour', \"'\", 'garcons', ',', 'a', 'spa', ',', 'avec', 'autorisation', 'd', \"'\", 'en', 'conserver', 'le', 'r', 'titre_honorifique', ':', 'il', 'est', 'admis', 'a', 'faire_valoir', 'ses_droits', ';', 'a', 'ja', 'pension', '.'], [';', \"'\", '-', 'r', '-', 'm', '.', 'drainer', ',', 'directeur', 'a', 'titre_provisoire', 'de', 'l', \"'\", 'ecole', 'moyenue', 'de', 'l', \"'\", 'etat', 'pour', '.', 'garcons', '^', 'a', 'wavre', ',', 'est', 'decharge', ',', 'sur', 'sa', 'demande', ',', 'des', 'fonctions', 'de', 'professeur', 'de', 'gymnastique', ',', 'en', ',', 'partage', ',', 'a', 'l', \"'\", 'ecole_moyenne', 'do', 'l', \"'\", 'etat', 'pour', 'garcons', ',', 'a', 'roeulx', '.'], ['*', 'contributions_directes', ',', 'douanes', 'et', 'accises', '.'], ['--', 'm', '.'], ['du', '-', '#', 'val', ',', 'receveur', 'des', 'contributions_directes', 'et', 'des', 'accises', 'a', 'deynze', '.', 'est', 'admis', ',', 'sur', 'sa', 'demande', ',', 'a', 'faire_valoir', 'ses_droits', 'a', 'la', 'pension', 'de', 'retraite', '.'], ['coinmission', 'tnedicale', 'provinciale', '.'], ['--', 'sont_nommes', 'membres_correspondants', 'de', 'la', 'commission_medicale', 'piminciale', 'de', 'namur', ';', 'mm', '.'], ['les', 'doctonrs', 'rolin', ',', 'u', \"'\", 'e', 'fosses', ';', 'lebrun', ',', 'de', 'ligny', ';', 'giliard', ',', 'do', 'ctiampion', ',', 'et', '.'], ['defasse', ',', 'de', 'spj', '\\\\', 'en_remplacement', 'de', 'mm', ',', 'les', 'docteurs', '.'], ['wery', ',', 'de', 'fosses', ',', 'et', 'fermine', ',', 'do', 'lignv', ',', 'demis', '-', ';', 'sionnairos', ',', 'et', 'de', 'mm', '.'], ['jes', 'docteurs', 'renard', ',', \"'\", 'de', 'champion', 'et', 'dehaybe', ',', 'de', 'spy', ',', 'decedes', '.'], ['arts', ',', 'sciences', 'et', 'lettres', 'declamation', '.', 'et', 'diction', '.'], ['*', '--', 'on', 'nous', 'demande', 'de', 'divers_cotes', 'des', 'renseignements', 'sur', 'le', 'cours', 'que', 'va', 'donner', 'm', '.', 'hittemans', '.'], ['nous', 'no', 'croyons_pouvoir', 'mieux', 'faire', 'que', 'd', \"'\", 'engager', 'les', 'interesses', 'a', 's', \"'\", 'adresser', 'a', 'l', \"'\", 'artiste', ',', 'rue', 'verhulst', ',', '6', ',', 'a', 'uccle', '.'], ['universite_libre', ',', 'rue', 'des', 'sols', '.'], ['--', 'demain_lundi', ',', 'a', 'r', 'meures', 'du', 'soir', ',', 'conference', 'par', 'm', '.', 'lameere', ':', '<<', 'la', 'fondation', '>>.'], ['universite_populaire', 'd', \"'\", 'euerbeek', '.'], ['--', 'lundi', '12', ',', 'a', '3', 'h', '.', '1', '/', '2', ',', 'au', 'local', ',', '4', ',', 'rue', 'do', 'l', \"'\", 'etang', ',', 'inauguration_solennelle', '.'], ['discours', 'de', 'm', '.', 'e', '.', 'richard', '.'], ['conference', 'de', 'xi', '.', 'ch', '.', 'buls', '.', 'sujet', ':', '<<-', 'la', 'corse', '>>.'], ['projections_lumineuses', '*', 'universite_populaire', 'de', 'saint', '-', 'josse', ',', '67', ',', 'rue', 'de', 'la', 'limite', '.'], ['demain_lundi', ',', 'a', '8', 'h', '.', '1', '/', '4', ',', 'eauserio', 'litteraire', ':', '<<', 'maxim', 'gorki', '<<.', 'lectures', '.'], ['vamicale', 'de', 'vecole', 'n_deg', '7', '.'], ['--', 'demain_lundi', ',', 'a', '8', 'h', '.', 'du', 'soir', ',', 'dans', 'le', 'preau', 'de', 'l', \"'\", 'ecole', 'n_deg', '7', ',', 'rue_haute', '225', \"'\", 'conference', 'par', 'madame', 'journaux', ':', '<<', 'de', 'la', 'grande', '-', 'chartreuse', 'a', 'ja', 'cote', 'd', \"'\", 'azur', '>>.', 'projections_lumineuses', '.'], ['foyer_intellectuel', ',', 's0', ',', 'rue', 'du', 'fort', '.'], ['--', 'demain_lundi', ',', 'a', '8b', ',,', 'm', '.', 'j', '.', 'vincent', ':', '<<', 'la', 'meteorologie', ':', 'le', 'barometre', '>>.']]\n"
     ]
    }
   ],
   "source": [
    "print(corpus[:100])"
   ]
  },
  {
   "cell_type": "markdown",
   "metadata": {},
   "source": [
    "## Entrainement d'un modèle Word2Vec sur ce corpus"
   ]
  },
  {
   "cell_type": "code",
   "execution_count": 49,
   "metadata": {},
   "outputs": [
    {
     "name": "stdout",
     "output_type": "stream",
     "text": [
      "CPU times: total: 19min 50s\n",
      "Wall time: 8min 5s\n"
     ]
    }
   ],
   "source": [
    "%%time\n",
    "model = Word2Vec(\n",
    "    corpus, # On passe le corpus de ngrams que nous venons de créer\n",
    "    vector_size=32, # Le nombre de dimensions dans lesquelles le contexte des mots devra être réduit, aka. vector_size\n",
    "    window=5, # La taille du \"contexte\", ici 5 mots avant et après le mot observé\n",
    "    min_count=5, # On ignore les mots qui n'apparaissent pas au moins 5 fois dans le corpus\n",
    "    workers=4, # Permet de paralléliser l'entraînement du modèle en 4 threads\n",
    "    epochs=5 # Nombre d'itérations du réseau de neurones sur le jeu de données pour ajuster les paramètres avec la descente de gradient, aka. epochs.\n",
    ")"
   ]
  },
  {
   "cell_type": "markdown",
   "metadata": {},
   "source": [
    "### Sauver le modèle dans un fichier"
   ]
  },
  {
   "cell_type": "code",
   "execution_count": 50,
   "metadata": {},
   "outputs": [],
   "source": [
    "outfile = f\"../data/newspapers.model\"\n",
    "model.save(outfile)"
   ]
  },
  {
   "cell_type": "markdown",
   "metadata": {},
   "source": [
    "## Explorer le modèle"
   ]
  },
  {
   "cell_type": "code",
   "execution_count": 51,
   "metadata": {},
   "outputs": [],
   "source": [
    "model = Word2Vec.load(\"../data/newspapers.model\")"
   ]
  },
  {
   "cell_type": "code",
   "execution_count": 52,
   "metadata": {},
   "outputs": [
    {
     "data": {
      "text/plain": [
       "array([ 2.2247555 ,  0.6819363 , -0.46982887, -1.4887618 , -4.667383  ,\n",
       "       -4.239567  , -1.700415  ,  0.7355679 , -5.223171  ,  2.490132  ,\n",
       "        0.06175804,  2.2967103 ,  1.475354  , -2.5924861 ,  1.302314  ,\n",
       "       -1.7824819 , -1.58623   , -2.389655  , -0.8751696 , -4.3609824 ,\n",
       "        0.7371284 , -0.7916897 ,  2.7633612 ,  1.1216733 , -0.9692526 ,\n",
       "       -0.95085186,  3.9775462 , -1.6057857 ,  0.2804738 , -6.893184  ,\n",
       "       -2.3377616 , -2.2372403 ], dtype=float32)"
      ]
     },
     "execution_count": 52,
     "metadata": {},
     "output_type": "execute_result"
    }
   ],
   "source": [
    "model.wv[\"parti\"]"
   ]
  },
  {
   "cell_type": "code",
   "execution_count": 53,
   "metadata": {},
   "outputs": [
    {
     "data": {
      "text/plain": [
       "0.82142437"
      ]
     },
     "execution_count": 53,
     "metadata": {},
     "output_type": "execute_result"
    }
   ],
   "source": [
    "model.wv.similarity(\"parti\", \"gouvernement\")"
   ]
  },
  {
   "cell_type": "code",
   "execution_count": 54,
   "metadata": {},
   "outputs": [
    {
     "data": {
      "text/plain": [
       "-0.2098843"
      ]
     },
     "execution_count": 54,
     "metadata": {},
     "output_type": "execute_result"
    }
   ],
   "source": [
    "model.wv.similarity(\"fleur\", \"gouvernement\")"
   ]
  },
  {
   "cell_type": "code",
   "execution_count": 55,
   "metadata": {},
   "outputs": [
    {
     "data": {
      "text/plain": [
       "0.13332462"
      ]
     },
     "execution_count": 55,
     "metadata": {},
     "output_type": "execute_result"
    }
   ],
   "source": [
    "model.wv.similarity(\"cigarette\", \"cancer\")"
   ]
  },
  {
   "cell_type": "markdown",
   "metadata": {},
   "source": [
    "### Chercher les mots les plus proches d'un terme donné"
   ]
  },
  {
   "cell_type": "code",
   "execution_count": 56,
   "metadata": {},
   "outputs": [
    {
     "data": {
      "text/plain": [
       "[('parti_travailliste', 0.8567697405815125),\n",
       " ('parti_socialiste', 0.8449087738990784),\n",
       " ('compromis', 0.8379006385803223),\n",
       " ('reich', 0.8356797695159912),\n",
       " ('differend', 0.8324472904205322),\n",
       " ('front_populaire', 0.8244948387145996),\n",
       " ('gouvernement', 0.8214244246482849),\n",
       " ('parti_liberal', 0.8187993168830872),\n",
       " ('conflit', 0.8177098631858826),\n",
       " ('fait_accompli', 0.8156004548072815)]"
      ]
     },
     "execution_count": 56,
     "metadata": {},
     "output_type": "execute_result"
    }
   ],
   "source": [
    "model.wv.most_similar(\"parti\", topn=10)"
   ]
  },
  {
   "cell_type": "code",
   "execution_count": 57,
   "metadata": {},
   "outputs": [
    {
     "data": {
      "text/plain": [
       "[('gouvernement_francais', 0.9530786275863647),\n",
       " ('gouvernement_britannique', 0.9518114924430847),\n",
       " ('gouvernement_allemand', 0.9372742176055908),\n",
       " ('gouvernement_italien', 0.9263112545013428),\n",
       " ('gouvernement_belge', 0.9254562854766846),\n",
       " ('gouvernement_americain', 0.9225295782089233),\n",
       " ('reich', 0.9108985662460327),\n",
       " ('parlement', 0.9082010388374329),\n",
       " ('gouvernement_anglais', 0.9079968333244324),\n",
       " ('principe', 0.9068506956100464)]"
      ]
     },
     "execution_count": 57,
     "metadata": {},
     "output_type": "execute_result"
    }
   ],
   "source": [
    "model.wv.most_similar(\"gouvernement\", topn=10)"
   ]
  },
  {
   "cell_type": "code",
   "execution_count": 58,
   "metadata": {},
   "outputs": [
    {
     "data": {
      "text/plain": [
       "[('mousse', 0.8876544237136841),\n",
       " ('moelle', 0.8738970160484314),\n",
       " ('tomate', 0.8726286888122559),\n",
       " ('racine', 0.8707342743873596),\n",
       " ('noix', 0.868889331817627),\n",
       " ('sauce', 0.868702232837677),\n",
       " ('tortue', 0.8686245083808899),\n",
       " ('truite', 0.8642770051956177),\n",
       " ('moustache', 0.8631142973899841),\n",
       " ('chair', 0.8620525002479553)]"
      ]
     },
     "execution_count": 58,
     "metadata": {},
     "output_type": "execute_result"
    }
   ],
   "source": [
    "model.wv.most_similar(\"fleur\", topn=10)"
   ]
  },
  {
   "cell_type": "code",
   "execution_count": 59,
   "metadata": {},
   "outputs": [
    {
     "data": {
      "text/plain": [
       "[('vache', 0.9190967679023743),\n",
       " ('coquille', 0.8857174515724182),\n",
       " ('bouteille', 0.8768215775489807),\n",
       " ('fourchette', 0.8722811341285706),\n",
       " ('torche', 0.8654356002807617),\n",
       " ('canne', 0.863666296005249),\n",
       " ('baleine', 0.8556278944015503),\n",
       " ('perruque', 0.8495801687240601),\n",
       " ('ficelle', 0.8490378856658936),\n",
       " ('brosse', 0.8489136099815369)]"
      ]
     },
     "execution_count": 59,
     "metadata": {},
     "output_type": "execute_result"
    }
   ],
   "source": [
    "model.wv.most_similar(\"cigarette\", topn=10)"
   ]
  },
  {
   "cell_type": "code",
   "execution_count": 60,
   "metadata": {},
   "outputs": [
    {
     "data": {
      "text/plain": [
       "[('bacille', 0.7994846105575562),\n",
       " ('liberalisme', 0.7981981039047241),\n",
       " ('salariat', 0.7857577800750732),\n",
       " ('bolchevisme', 0.783255934715271),\n",
       " ('communisme', 0.7791157364845276),\n",
       " ('cholera', 0.775962233543396),\n",
       " ('pentagone', 0.7744441628456116),\n",
       " ('rearmement_allemand', 0.7722188830375671),\n",
       " ('probleme_allemand', 0.7696313261985779),\n",
       " ('federalisme', 0.7695887088775635)]"
      ]
     },
     "execution_count": 60,
     "metadata": {},
     "output_type": "execute_result"
    }
   ],
   "source": [
    "model.wv.most_similar(\"cancer\", topn=10)"
   ]
  }
 ],
 "metadata": {
  "kernelspec": {
   "display_name": "Python 3.10.7 ('tac_venv': venv)",
   "language": "python",
   "name": "python3"
  },
  "language_info": {
   "codemirror_mode": {
    "name": "ipython",
    "version": 3
   },
   "file_extension": ".py",
   "mimetype": "text/x-python",
   "name": "python",
   "nbconvert_exporter": "python",
   "pygments_lexer": "ipython3",
   "version": "3.10.7"
  },
  "vscode": {
   "interpreter": {
    "hash": "94e6b5bcc7f7e753f66bebfa8eedfd78b30fa455e50dcf18e2f776c23ff31700"
   }
  }
 },
 "nbformat": 4,
 "nbformat_minor": 4
}
