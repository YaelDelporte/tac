{
 "cells": [
  {
   "cell_type": "code",
   "execution_count": 7,
   "metadata": {},
   "outputs": [
    {
     "name": "stdout",
     "output_type": "stream",
     "text": [
      "\n",
      "10 Expositions internationales en Belgique\n",
      "\n",
      "[{'item': {'type': 'uri', 'value': 'http://www.wikidata.org/entity/Q3062246'}, 'itemLabel': {'xml:lang': 'en', 'type': 'literal', 'value': \"Exposition internationale de l'eau (1939)\"}}, {'item': {'type': 'uri', 'value': 'http://www.wikidata.org/entity/Q2748873'}, 'itemLabel': {'xml:lang': 'en', 'type': 'literal', 'value': 'Brussels International Exposition'}}, {'item': {'type': 'uri', 'value': 'http://www.wikidata.org/entity/Q2694555'}, 'itemLabel': {'xml:lang': 'en', 'type': 'literal', 'value': \"Exposition Universelle d'Anvers\"}}, {'item': {'type': 'uri', 'value': 'http://www.wikidata.org/entity/Q2405188'}, 'itemLabel': {'xml:lang': 'en', 'type': 'literal', 'value': 'Brussels International Exposition (1897)'}}, {'item': {'type': 'uri', 'value': 'http://www.wikidata.org/entity/Q2386813'}, 'itemLabel': {'xml:lang': 'en', 'type': 'literal', 'value': 'Exposition of 1930'}}, {'item': {'type': 'uri', 'value': 'http://www.wikidata.org/entity/Q2186413'}, 'itemLabel': {'xml:lang': 'en', 'type': 'literal', 'value': 'Exposition universelle et internationale'}}, {'item': {'type': 'uri', 'value': 'http://www.wikidata.org/entity/Q2041693'}, 'itemLabel': {'xml:lang': 'en', 'type': 'literal', 'value': \"Exposition Internationale d'Anvers\"}}, {'item': {'type': 'uri', 'value': 'http://www.wikidata.org/entity/Q932774'}, 'itemLabel': {'xml:lang': 'en', 'type': 'literal', 'value': 'Brussels International 1910'}}, {'item': {'type': 'uri', 'value': 'http://www.wikidata.org/entity/Q927400'}, 'itemLabel': {'xml:lang': 'en', 'type': 'literal', 'value': 'Liège International'}}, {'item': {'type': 'uri', 'value': 'http://www.wikidata.org/entity/Q74035'}, 'itemLabel': {'xml:lang': 'en', 'type': 'literal', 'value': 'Expo 58'}}]\n"
     ]
    }
   ],
   "source": [
    "from datetime import datetime as dt\n",
    "from SPARQLWrapper import SPARQLWrapper, JSON\n",
    "\n",
    "# Retrieve results from SPARQL\n",
    "# World's fairs organised in Belgium\n",
    "endpoint = \"https://query.wikidata.org/bigdata/namespace/wdq/sparql\"\n",
    "sparql = SPARQLWrapper(endpoint)\n",
    "\n",
    "# P31 = instance of \n",
    "# Q172754 = World's fair \n",
    "# P17 = country\n",
    "# Q31 = Belgium\n",
    "# P585 = Point in time\n",
    "# P580 = Start time\n",
    "# P582 = end time\n",
    "\n",
    "statement = \"\"\"\n",
    "SELECT DISTINCT ?item ?itemLabel ?PointInTime   WHERE {\n",
    "  SERVICE wikibase:label { bd:serviceParam wikibase:language \"en\". }\n",
    "  {\n",
    "    SELECT DISTINCT ?item WHERE {\n",
    "      ?item p:P31 ?statement0.\n",
    "      ?statement0 (ps:P31/(wdt:P279*)) wd:Q172754.\n",
    "      ?item p:P17 ?statement1.\n",
    "      ?statement1 (ps:P17/(wdt:P279*)) wd:Q31.\n",
    "      ?item wdt:P585 ?PointInTime.\n",
    "    }\n",
    "    LIMIT 100\n",
    "  }\n",
    "}\n",
    "ORDER BY ?PointInTime\n",
    "\"\"\"\n",
    "\n",
    "sparql.setQuery(statement)\n",
    "sparql.setReturnFormat(JSON)\n",
    "results = sparql.query().convert()\n",
    "\n",
    "rows = results['results']['bindings']\n",
    "print(f\"\\n{len(rows)} Expositions internationales en Belgique\\n\")\n",
    "print(rows[:10])\n",
    "\n",
    "\n"
   ]
  }
 ],
 "metadata": {
  "kernelspec": {
   "display_name": "Python 3.10.7 ('tac_venv': venv)",
   "language": "python",
   "name": "python3"
  },
  "language_info": {
   "codemirror_mode": {
    "name": "ipython",
    "version": 3
   },
   "file_extension": ".py",
   "mimetype": "text/x-python",
   "name": "python",
   "nbconvert_exporter": "python",
   "pygments_lexer": "ipython3",
   "version": "3.10.7"
  },
  "orig_nbformat": 4,
  "vscode": {
   "interpreter": {
    "hash": "94e6b5bcc7f7e753f66bebfa8eedfd78b30fa455e50dcf18e2f776c23ff31700"
   }
  }
 },
 "nbformat": 4,
 "nbformat_minor": 2
}
