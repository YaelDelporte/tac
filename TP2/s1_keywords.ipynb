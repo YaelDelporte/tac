{
 "cells": [
  {
   "cell_type": "markdown",
   "metadata": {},
   "source": [
    "# Extraction de Keywords"
   ]
  },
  {
   "cell_type": "markdown",
   "metadata": {},
   "source": [
    "## Imports"
   ]
  },
  {
   "cell_type": "code",
   "execution_count": 1,
   "metadata": {},
   "outputs": [],
   "source": [
    "import os\n",
    "import yake"
   ]
  },
  {
   "cell_type": "markdown",
   "metadata": {},
   "source": [
    "## Extraire les mots clés d'un document avec Yake"
   ]
  },
  {
   "cell_type": "markdown",
   "metadata": {},
   "source": [
    "https://github.com/LIAAD/yake"
   ]
  },
  {
   "cell_type": "code",
   "execution_count": 2,
   "metadata": {},
   "outputs": [
    {
     "data": {
      "text/plain": [
       "<yake.yake.KeywordExtractor at 0x2013ead5ed0>"
      ]
     },
     "execution_count": 2,
     "metadata": {},
     "output_type": "execute_result"
    }
   ],
   "source": [
    "# Instantier l'extracteur de mots clés\n",
    "kw_extractor = yake.KeywordExtractor(lan=\"fr\", top=50)\n",
    "kw_extractor"
   ]
  },
  {
   "cell_type": "code",
   "execution_count": 3,
   "metadata": {},
   "outputs": [],
   "source": [
    "# Lister les Fichiers\n",
    "data_path = \"../data/txt/\"\n",
    "files = os.listdir(data_path)"
   ]
  },
  {
   "cell_type": "markdown",
   "metadata": {},
   "source": [
    "## Faire la même opération sur tous les documents"
   ]
  },
  {
   "cell_type": "code",
   "execution_count": 7,
   "metadata": {},
   "outputs": [
    {
     "data": {
      "text/plain": [
       "'KB_JB838_1908-02-18_01-00006.txt'"
      ]
     },
     "execution_count": 7,
     "metadata": {},
     "output_type": "execute_result"
    }
   ],
   "source": [
    "this_file = files[1953]\n",
    "this_file"
   ]
  },
  {
   "cell_type": "code",
   "execution_count": 8,
   "metadata": {},
   "outputs": [
    {
     "data": {
      "text/plain": [
       "['KB', 'JB838', '1908-02-18', '01-00006.txt']"
      ]
     },
     "execution_count": 8,
     "metadata": {},
     "output_type": "execute_result"
    }
   ],
   "source": [
    "# la méthode split\n",
    "chaine_split = this_file.split('_')\n",
    "chaine_split"
   ]
  },
  {
   "cell_type": "code",
   "execution_count": 19,
   "metadata": {},
   "outputs": [
    {
     "name": "stdout",
     "output_type": "stream",
     "text": [
      "KB_JB838_1953-01-03_01-00011.txt mentions these keywords: ANNEE DEPASSENTIEN, DEPASSENTIEN MME, SOLDES partout, L’ON PEÜTMGINER, jeune fille, partir cto...\n",
      "KB_JB838_1953-01-16_01-00002.txt mentions these keywords: ancien ministre, Congo belge, Jacques Feyder, Françoise Rosay, VAN ZEELAND, D’autre part, CERCLE ROYAL, Congo constituent, vie politique, coloniaux belges, gouverneur général...\n",
      "KB_JB838_1953-01-18_01-00023.txt mentions these keywords: SOIR ’23...\n",
      "KB_JB838_1953-01-22_01-00009.txt mentions these keywords: taoini Mail, ANH ütiOR, Rue Van, iaux ianvlcr, mit temps, temps itérêt, DANSE MODERNE...\n",
      "KB_JB838_1953-01-23_01-00014.txt mentions these keywords: Clément Studebaker, Usines Studebaker, John Studebaker, frères Henry, Citroën Norm, piano Tél, BRUXELLES Tél, ETS DTETEREN, radio Tél, CITROEN CITROEN, DTETEREN FRERES...\n",
      "KB_JB838_1953-01-24_01-00011.txt mentions these keywords: louer Tél, app. mod, BRUXELLES Tél, appart. mod, Louise Tél, Bel app, Agence Rossel...\n",
      "KB_JB838_1953-01-28_01-00010.txt mentions these keywords: Bel app, Office Propriétaires, Propriétaires Tél, BEL APPART, Loi Tél...\n",
      "KB_JB838_1953-02-01_01-00020.txt mentions these keywords: dés. renc, fond EPEDA, dés. épous...\n",
      "KB_JB838_1953-02-02_01-00003.txt mentions these keywords: dimanche matin, iau Ire, Van Glabbeke, heures dimanche, neige atteint...\n",
      "KB_JB838_1953-02-06_01-00014.txt mentions these keywords: Agence Rossel, Ecrire Agence, TAVERNE dem, CHARC. dem, Bons gages, rue Royale, DEM. bon, dem. serv, DAMES dem, MENAGE DEM, Rossel num, rue Neuve...\n",
      "KB_JB838_1953-02-12_01-00001.txt mentions these keywords: gouvernement britannique, service militaire, JOURNAL QUOTIDIEN, JOUR VIDE, CHEQUES POSTAUX, POSTAUX PUBLICITE, secrétaire d’Etat, Berlin-Ouest Berlin...\n",
      "KB_JB838_1953-02-14_01-00007.txt mentions these keywords: Victor Rossel, Prix Victor, Prix Littéraire, VIE LITTERAIRE, Victor Hugo, Littéraire Victor, Marcel Bonnet, Robert MERLE, côtes vineuses...\n",
      "KB_JB838_1953-02-17_01-00009.txt mentions these keywords: Congo belge, royale belge, Pays Liège, Colonie Congo, Crown Mines, Congo lots, Sub Nigel, Société belge...\n",
      "KB_JB838_1953-02-17_01-00011.txt mentions these keywords: Agence Rossel, l’Agence Rossel, Ecrire Agence, Bruxelles demande, Rossel num, IMPORTANTE SOCIETE, Importante firme, Faire offre, Importante Société, firme Importante, PLACE demande...\n",
      "KB_JB838_1953-02-20_01-00012.txt mentions these keywords: bel app, Forest Tél, MAISON Tél, Lux. app, AVENUE LOUISE, LOUER MAISON...\n",
      "KB_JB838_1953-02-24_01-00002.txt mentions these keywords: Jean Vilar, président national, comité directeur, grand prix...\n",
      "KB_JB838_1953-02-27_01-00001.txt mentions these keywords: roi Léopold, président Eisenhower, Van Houtte, Léopold III, Van Glabbeke, Famille royale, région wallonne, Commission Harmel, politique générale...\n",
      "KB_JB838_1953-03-08_01-00001.txt mentions these keywords: comité central, Soviet suprême, nommé ministre, JOURNAL QUOTIDIEN, Conseil central, Secrétaire d’Etat, Affaires étrangères, parti communiste, Machines lourdes...\n",
      "KB_JB838_1953-03-29_01-00015.txt mentions these keywords: AGENCE ROSSEL, l'Agence ROSSEL, Ecrire Agence, IMPORTANTE SOCIETE, Importante Firme, Faire offre, DEMANDE EMPLOYEE, SOCIETE COLONIALE...\n",
      "KB_JB838_1953-03-30_01-00001.txt mentions these keywords: JOURNAL QUOTIDIEN, Westminster Hall, reine Mary, monarchie yougoslave, rapport note, roi Pierre, question yougoslave, d'une politique, Résistance communiste, dernière guerre...\n",
      "KB_JB838_1953-03-30_01-00002.txt mentions these keywords: Bœuf Gras, Madeleine Grande, Vallée Poussin, Conseil communal, formation professionnelle, samedi soir, Dimanche matin, Betty Bouvin, Jim Balla, Jacques Valiez, Conrad Will, Regine Berry, secrétaire général...\n",
      "KB_JB838_1953-04-04_01-00008.txt mentions these keywords: Van Ackcr, avril prochain, Mmes Van, Mme Van, grand nombre, Van Bets, bat Mme, PRIX JEAN, AVRIL Moto-cross, tour Miss, circuit International, Pâques Moto-cross...\n",
      "KB_JB838_1953-04-05_01-00009.txt mentions these keywords: Van Steenbergen, Champions AVSTRIA, SCOLAIRES PROVINCIALE, Français SERIE, Rik Van, match fut, coup franc, Grimbergen SERIE, Vaast SERIE, Wiers SERIE, Goutroux SERIE, Fallsolle SERIE, Mous SERIE, Slins SERIE, Arwaltle SERIE, Condrurlenne SERIE...\n",
      "KB_JB838_1953-04-09_01-00015.txt mentions these keywords: RUE BECKERS, Auguste Lamblotte, Chevrolet Luxe, CITROEN Tél, Rue Auguste, CARROSSERIE Tôlarla...\n",
      "KB_JB838_1953-04-12_01-00007.txt mentions these keywords: livres sterling, d’une pénurie, Société royale, Prix industriel, Société Générale, royale belge...\n",
      "KB_JB838_1953-04-15_01-00016.txt mentions these keywords: DERNIERE EDITION, EDITION PARUE, ÉDITIONS MERCREDI, Liedts Tél, rheürefà laquellé, Chevrolet Tél, Chevrolet luxe, Rue Jolly, STATION WAGON...\n",
      "KB_JB838_1953-04-23_01-00005.txt mentions these keywords: Communauté politique, Affaires étrangères, Georges Malenkov, André Jdanov, communauté européenne, CAISSE NATIONALE, fois Malenkov, Malenkov souriant, jeune Malenkov, Jdanov C’est, ancien ministre, crédits supplémentaires, parti C’est, Malenkov retient, CLASSE TOURISTE, politique européenne...\n",
      "KB_JB838_1953-04-25_01-00001.txt mentions these keywords: JOURNAL QUOTIDIEN, rue Neuve, président Eisenhower, Affaires économiques, l’Allemand moyen...\n",
      "KB_JB838_1953-04-29_01-00012.txt mentions these keywords: Agence Rossel, MAUVAISE HALEINE, Ecrire Agence, Rossel num, Chlorophylle SUPPRIME, bouche Assurez-vous, supprime radicalement, cherche place, COUTURE dem, rue Royale, demande bon...\n",
      "KB_JB838_1953-04-30_01-00004.txt mentions these keywords: TIENT LIEU, Foire Internationale, Otto Strasser, AVIS TIENT, Robert Sergil, stricte Intimité, MONSIEUR Emile, Van Els, présent avis, pris feu...\n",
      "KB_JB838_1953-05-03_01-00013.txt mentions these keywords: Vente publique, BELLE MAISON, BONNE MAISON, Notaire Jacques, Jacques VAN, Bruxelles Etudes, Notaire NOLS, notaire Ackermans...\n",
      "KB_JB838_1953-05-03_01-00020.txt mentions these keywords: Bruxelles Tél, MIDI Tél, FACE RUE, Bruxelles Choix, Machine Zlg-Zag, FONDS Tél, rue Girard, Brux Tél, ROSSEL Bruxelles, garantie Tél, rue Haute, mobiliers Tél, rue Plantes, Catalogue gratuit, BIJOUX BRILLANTS...\n",
      "KB_JB838_1953-05-08_01-00014.txt mentions these keywords: Agence Rossel, Ecrire Agence, DAMES dem, COUTURE dem, Rossel num, MAROQUINERIE dem, DEMANDE REPRESENTANTS, Corné dem, TEINTURERIE dem, Ecrire âge, COUTURE demande, Jeune fille, demande bon, BRASSERIE dem...\n",
      "KB_JB838_1953-05-20_01-00015.txt mentions these keywords: Monsieur BEHERMAN, PLYMOUTH Signé, Paul FRERE, Télesphore GEORGE, VAN RYSWYGK, Volkswagen Luxe, André PILETTE, Morris Minor, VAN WETTER, VOITURES NEUVES, Citroën Légère...\n",
      "KB_JB838_1953-05-23_01-00010.txt mentions these keywords: Congo belge, Grand Prix, Hatanut surtôiil, AVcô Ici, Ici journée, SOffi JEU, Pentecôte AVcô, Colonie Congo...\n",
      "KB_JB838_1953-05-30_01-00005.txt mentions these keywords: Centre Harmel, heures possibles, som Vienne, CLIMAT SOLAIRE, Viennois Vienne, communes flamandes, Grande Roue, Cour d'appel, Graham Greene, Prix Max, Belgique comprendrait, province centrale, Harry Lime...\n",
      "KB_JB838_1953-05-31_01-00014.txt mentions these keywords: Objectif Novar, VILLA MOD, belle MAISON, LOUER Villa, APPAREIL PHOTOGRAPHIQUE, téléviseur Incorporé, couleurs PRONTO, BRUXELLES Téléph, Propriétaires Tél...\n",
      "KB_JB838_1953-06-02_01-00010.txt mentions these keywords: Agence Rossel, Bel app, bel appart, Uno quantité, confort Tél, PORTE LOUISE, DAME seule...\n",
      "KB_JB838_1953-06-03_01-00002.txt mentions these keywords: Sir Charles, FERNAND GREGH, GALERIE LOUISE, Charles Bentinck, Grete Wiesenthal, Van Loo, Jules César, Théâtre royal, roi Léopold, ministre d'Etat...\n",
      "KB_JB838_1953-06-08_01-00007.txt mentions these keywords: Van Hammée, Ernest Van, Goose Tatum, Meilleur tour, Jouée jur, Van Hoeckc, bureau central, rencontre Jouée, TOUR FNAL, samedi soir, tour final...\n",
      "KB_JB838_1953-06-09_01-00002.txt mentions these keywords: col Sud, Combe occidentale, mont Everest, sommet méridional, mais Hillary, Sherpa Tensing, colonel Hunt, Hillary déclare, Tensing restèrent, André Messager...\n",
      "KB_JB838_1953-06-09_01-00006.txt mentions these keywords: Fédération nationale, som MARDI, droit pénal, Fédération générale, Femmes libérales, grandes marées, sport professionnel, cercles dramatiques, grande marée, anciens combattants...\n",
      "KB_JB838_1953-06-18_01-00001.txt mentions these keywords: JOURNAL QUOTIDIEN, Communauté européenne, police populaire, police communiste, Communauté politique, chancelier Adenauer, Soir Illustré, derniers jours, président Eisenhower...\n",
      "KB_JB838_1953-06-18_01-00007.txt mentions these keywords: St-Gilioise Moeiïs, Grand Prix, Second tour, Marcel Bldot, tour Miss, cas Bobet...\n",
      "KB_JB838_1953-06-18_01-00008.txt mentions these keywords: FOIE Voki, som PROTEGEZ, Congo belge, Pays Liège, lee grande, tea bonnet, bonnet aourHturea...\n",
      "KB_JB838_1953-06-24_01-00006.txt mentions these keywords: FEUILLES VOLANTES, bat miss, Placeaux jeunes, Gaston Meyer, bat Thomas...\n",
      "KB_JB838_1953-06-29_01-00002.txt mentions these keywords: saint Bernard, Sécurité sociale, Jan Van, Mgr Desmedt, Bruxelles Strasbourg, plus Strasbourg, presse belge, Industries belges...\n",
      "KB_JB838_1953-07-01_01-00011.txt mentions these keywords: bel app, BEL App., L'ETOILE BLEUE, app. mod, CENTRE App, PENSION Tél, Pens. compl, Beaux app...\n",
      "KB_JB838_1953-07-05_01-00019.txt mentions these keywords: Agence Rossel, Ecrire Agence, IlEPItENDRg Insln, l'Agence Rossel, vue mar, BON PIANO, bas PRIX, Rossel num...\n",
      "KB_JB838_1953-07-09_01-00002.txt mentions these keywords: révision constitutionnelle, Rosemonde Gérard, commission spéciale, Chambre chargée, est-il affirmé, vivement applaudie, Edmond Rostand, qu’on pourrait, Comité d'appel...\n",
      "KB_JB838_1953-07-10_01-00012.txt mentions these keywords: Prix mod, bel app, louer appart...\n",
      "KB_JB838_1953-07-11_01-00012.txt mentions these keywords: BRUXELLES Tél, BRUXELLES VILLAS, villa TéL, Bruxelles maison, Heynaldo Hahn, Jolie maison, BELLE VILLA, Jardin Tél, LOUER VILLA, VILLA MODERNE...\n",
      "KB_JB838_1953-07-12_01-00015.txt mentions these keywords: Agence Rossel, Rossel num, Ecrire Agence, l'Agence Rossel, Firme importante, Importante société, IMPORTANTE SOCIETE, faire offre, Importante firme...\n",
      "KB_JB838_1953-07-17_01-00008.txt mentions these keywords: ENVOYES SPECIAUX, Van Genechten, Van Breenen, maillot jaune, Van Geneugden...\n",
      "KB_JB838_1953-07-18_01-00011.txt mentions these keywords: EUL JOUll, L'ENFANCEI EUL, LOUER Maison, maison libre, francs Tél, petite maison, Maison mod...\n",
      "KB_JB838_1953-07-19_01-00017.txt mentions these keywords: Renault Juva, BAS PRIX, Prince Héritier, STATION WAGON, Garage Remy, rue Ten...\n",
      "KB_JB838_1953-07-26_01-00001.txt mentions these keywords: Etats partenaires, pays partenaire, Affaires étrangères, d’un pays, sécurité européenne, Communauté européenne, mis d’accord, protocole agricole...\n",
      "KB_JB838_1953-08-02_01-00011.txt mentions these keywords: louer Tél, rantil LUS, Bel app....\n",
      "KB_JB838_1953-08-06_01-00008.txt mentions these keywords: pigeons vieux, Van den, Van Loe, Sing Sing, Van der, Programme National, place Van, Van Hamme, colombophile belge, Van Ersel, concours national, Van Eyck, Grand Prix, Jeunes pigeons, pigeons jeunes, bon pigeon, bons Jeunes...\n",
      "KB_JB838_1953-08-10_01-00006.txt mentions these keywords: Frans Herman, Van Der, nouveau record, record mondial...\n",
      "KB_JB838_1953-08-14_01-00009.txt mentions these keywords: Poivre Ena, Ena AGORA, Enfants admis, CINEMAS ACROPOLE, Danielle Darrieux, Enf. admis, Enf. adm, DIE SUNDERIN, JEAN MARAIS, Peter Lawford, FILM FRANÇAIS, Trou Normand...\n",
      "KB_JB838_1953-08-15_01-00011.txt mentions these keywords: Belle Maison, VENTE PUBLIQUE, Bruxelles Etude, COIFFURE Ecole, NOTAIRES Ventes, VAN DER...\n",
      "KB_JB838_1953-08-15_01-00012.txt mentions these keywords: MARQUE DÉPOSÉE, Tournai OUVERTURE, LOUER Maison, BELLE MAISON, VENDRE VIllA, Tournaisis Ecole, OUVERTURE d’uno, division Ingé...\n",
      "KB_JB838_1953-08-29_01-00002.txt mentions these keywords: général Franco, l'Espagne ÎII, Pauline Marcelle, prix espagnols, conférence internationale, Cour internationale...\n",
      "KB_JB838_1953-09-07_01-00003.txt mentions these keywords: samedi soir, général Naguib, Parti communiste, général Dean, service militaire, samedi tlvo, l'Atnlcalj tiques, s’est produit, déclaré qu’ils, congrès nationaliste, dimanche matin, parti allemand...\n",
      "KB_JB838_1953-09-09_01-00005.txt mentions these keywords: iii Tlbor, sanguinaires Pathans, femmes L'hommage, parti communiste, Ali Mustafa, Tlbor Mende, tuent rituellement, province frontière, tribus Pathans, fusil anglais...\n",
      "KB_JB838_1953-09-13_01-00002.txt mentions these keywords: PREMIERE PAGE, tSN PREMIERE, ostendaise IVOIH, Lettre ostendaise, chanoine Vyverman, cours d’une, SOIR Lettre, Van Glabbeke, d’une ville, d’une réunion, peintres belges, droit international...\n",
      "KB_JB838_1953-09-18_01-00015.txt mentions these keywords: Bon état, BAS PRIX, Chevrolet luxe, prix Tél...\n",
      "KB_JB838_1953-09-20_01-00002.txt mentions these keywords: Tissu conjonctif, l’avenue Louise, Raymond Poincaré, parce qu’il, eoulol chaussée, tissu osseux, tissus confectionnés, tissus glandulaires, d’autres tissus...\n",
      "KB_JB838_1953-09-29_01-00013.txt mentions these keywords: PRIX Tél, état Tél, Bas prix, BRUXELLES Tél, HAUTE QUALITE, QUALITE TECHNIQUE, Morris Minor, bon état, TOTAL Tél...\n",
      "KB_JB838_1953-10-03_01-00017.txt mentions these keywords: bons gages, PATISSERIE Dem, SEUL dem, appart. dem, MAGASIN dem, dames dem, DEM. bon, BONNE SERVANTE, USINE dem...\n",
      "KB_JB838_1953-10-07_01-00001.txt mentions these keywords: TOURNAI QUOTIDIEN, Sir Winston, Winston Churchill, Congo Beige, d’une garantie, Affaires étrangères, Fédération nationale...\n",
      "KB_JB838_1953-10-07_01-00008.txt mentions these keywords: nouvelle fois, VUvdrde avalent, général van, THEATRE ROYAL, général Piron, dimanche prochain, grand spectacle, van Strydonck...\n",
      "KB_JB838_1953-10-10_01-00006.txt mentions these keywords: conseil provincial, petit Poucet, conseil vote, MADAME VEUVE, TIENT LIEU, faire part, AVIS TIENT, Grand Poucet, commission politique...\n",
      "KB_JB838_1953-10-15_01-00018.txt mentions these keywords: PARUE JEUDI, DERNIERE EDITION, EDITION PARUE, Soleil lave, WEEK-END SPORTIF, Opel Olymp...\n",
      "KB_JB838_1953-10-17_01-00017.txt mentions these keywords: Agence Rossel, Ecrire Agence, Rossel num, Jeune fille, aito rnpp...\n",
      "KB_JB838_1953-10-18_01-00012.txt mentions these keywords: Musique légère, Concert symphonique, GRANDS CONCERTS, MUSIQUE LEGERE, Disques demandés, Paris Inter, CINEMAS ACROPOLE, Paris Nat., GRAND SPECTACLE, Musique variée, Musique récréative, Musique française, Musique religieuse, Musique joyeuse, THEATRE FLAMAND...\n",
      "KB_JB838_1953-10-19_01-00010.txt mentions these keywords: Van Leer, EXCELLENCE Antwcrpse, dernières minutes, Van Haezendonck, Van Gils, Jeunes gens...\n",
      "KB_JB838_1953-10-25_01-00024.txt mentions these keywords: EDITION PARUE, DERNIERE EDITION, Dern édit, voiture anonyme, s’est déroulée, Tour d’Australie, d’une voiture, petite voiture, Moss Vale, PETITES VOITURES, grandes vitesses...\n",
      "KB_JB838_1953-10-29_01-00015.txt mentions these keywords: Agence Rossel, Ecrire Agence, Bons gages, Bruxelles demande, Rossel num...\n",
      "KB_JB838_1953-10-30_01-00005.txt mentions these keywords: AUI SIXIEME, ROME AUI, CHARLES VAN, chefs d’état-major, général Wilson, recettes fiscales, général Marshall, Winston Churchill, général Eisenhower, SIXIEME PARTIE, Prix van, théâtre méditerranéen, président Roosevelt...\n",
      "KB_JB838_1953-10-30_01-00012.txt mentions these keywords: EXPERIENCE DECISIVE, Soleil lave, LOUER Maison, c’est Soleil, essuie-mains sales, vis Tél, Villa moderne, francs Tél...\n",
      "KB_JB838_1953-11-01_01-00013.txt mentions these keywords: VENTE PUBLIQUE, BELLE MAISON, Notaire Jean, BRUXELLES MAISON, dit notaire, BONNE MAISON, notaire Etudes, MAISON D’HABITATION, MAISON Etude, Maison Communale...\n",
      "KB_JB838_1953-11-03_01-00002.txt mentions these keywords: Banque Nationale, Jean Anouilh, Alfred Dubois, Mit fondé, Haute Autorité, Emile Bosquet, Fausses Confidences, Affaires étrangères, perfectionnement mesuré, éventuelles perfectionnement...\n",
      "KB_JB838_1953-11-06_01-00004.txt mentions these keywords: Van Laethem, Camille Van, Jeudi matin, mercredi soir, Thy-le tragédie, maison Van, Horrible Thy-le, Van Lao...\n",
      "KB_JB838_1953-11-08_01-00007.txt mentions these keywords: pays communistes, longueur virtuelle, grande partie, livres sterling, Royal Dutch...\n",
      "KB_JB838_1953-11-11_01-00008.txt mentions these keywords: LIMBOURG HOLLANDAIS, Hameçon double, Van den, Hameçon simple, Van Korckhovo, d'entraînement effectif, Verbaan gagne, journée d'entraînement...\n",
      "KB_JB838_1953-11-13_01-00003.txt mentions these keywords: van Zeeland, Communauté européenne, Affaires étrangères, communauté politique, Forces européennes, problème allemand, Pacte Atlantique...\n",
      "KB_JB838_1953-11-14_01-00008.txt mentions these keywords: Max Médéric, viande bovine, dit Max, bonne qualité, SOIR SAMEDI, qualités basses, qualité ordinaire, Jean Desclaux, dit Jean, qualité basse, grand nombre...\n",
      "KB_JB838_1953-11-18_01-00001.txt mentions these keywords: QUOTIDIEN lfiPAGES, hier soir, comptabilité nationale, JOURNAL QUOTIDIEN, Léopold III, Conqo Belge, l’attorney général, général Brownell, Harry Truman, Sociologie Solvay, service obligatoire...\n",
      "KB_JB838_1953-11-28_01-00004.txt mentions these keywords: impériale Chahnaz, princesse Chahnaz, jeudi soir, vendredi matin, Chah d’Iran, police judiciaire, Vosges Cazé, Lycée Wnha...\n",
      "KB_JB838_1953-12-03_01-00002.txt mentions these keywords: petits amis, petit théâtre, Folies Dramatiques, Monsieur Philippe, Stève Passeur, connaissance d’un, Edgard Davignon...\n",
      "KB_JB838_1953-12-03_01-00004.txt mentions these keywords: Van Hammée, Pierre Loquet, l’énergie atomique, d’un Loquet, général Azemodeh, Loquet n’a, André Duprez...\n",
      "KB_JB838_1953-12-10_01-00016.txt mentions these keywords: VENTE EXCLUSIVE, Agence Rossel, bas prix, Bruxelles Tél, Ecrire Agence, LUNETTES CHERCHE, CHERCHE GROSSISTE, FABRIQUE ALLEMANDE, SOIR JEUDI, bon état...\n",
      "KB_JB838_1953-12-11_01-00008.txt mentions these keywords: Grands Prix, présent avis, tient lieu, Prix Arthur, corps présent, conseil communal, Gaston LAMBERT, service funèbre, Cross international, avis tient, HONORAIRE Gaston, quittant Bruxelles, COLONEL AVIATEUR...\n",
      "KB_JB838_1953-12-12_01-00003.txt mentions these keywords: van Zeeland, Conseil Atlantique, Winston Churchill, chancelier Adenauer, Affaires étrangères, Sir Winston, NlttttliU NES, président Eisenhower, Russie soviétique, conventions européennes, Etats membres, pays membres...\n",
      "KB_JB838_1953-12-12_01-00007.txt mentions these keywords: Kikou Yamata, Zoé OLDENBOURG, Roi Soleil, roi Louis, Pierre Gaxotte, Paul Neuhuys, Prix Goncourt, grand public, PRIX VICTOR...\n",
      "KB_JB838_1953-12-13_01-00018.txt mentions these keywords: Agence Rossel, Rossel num, Ecrire Agence, FIRME IMPORTANTE, Faire offre, MONTRE DAME, MONTRE CONSUL, offre Agence, Ire force, IMPORTANTE FIRME...\n",
      "KB_JB838_1953-12-16_01-00008.txt mentions these keywords: lie Ligne, Lég. Mob., Cross Populaire, Ligne Vainqueur, Chasseurs Ard., Code pénal, loi Philippart, ille Ligne, boxeurs professionnels, Ligne devait...\n",
      "KB_JB838_1953-12-25_01-00003.txt mentions these keywords: René Coty, nouveau Président, président Eisenhower, République française, élu Président, Chine communiste, Fédération communiste, président Auriol, Eisenhower Washington, parti communiste...\n"
     ]
    }
   ],
   "source": [
    "# extraire les mots-clés des fichiers de 1953\n",
    "for f in sorted(files):\n",
    "    elems = f.split(\"_\")\n",
    "    year = elems[2].split(\"-\")[0]\n",
    "    if year == \"1953\":\n",
    "        text = open(os.path.join(data_path, f), 'r', encoding=\"utf-8\").read()\n",
    "        keywords = kw_extractor.extract_keywords(text)\n",
    "        kept = []\n",
    "        for kw, score in keywords:\n",
    "            words = kw.split()\n",
    "            if len(words) == 2:\n",
    "                kept.append(kw)\n",
    "        print(f\"{f} mentions these keywords: {', '.join(kept)}...\")"
   ]
  }
 ],
 "metadata": {
  "kernelspec": {
   "display_name": "Python 3.10.7 ('tac_venv': venv)",
   "language": "python",
   "name": "python3"
  },
  "language_info": {
   "codemirror_mode": {
    "name": "ipython",
    "version": 3
   },
   "file_extension": ".py",
   "mimetype": "text/x-python",
   "name": "python",
   "nbconvert_exporter": "python",
   "pygments_lexer": "ipython3",
   "version": "3.10.7"
  },
  "vscode": {
   "interpreter": {
    "hash": "94e6b5bcc7f7e753f66bebfa8eedfd78b30fa455e50dcf18e2f776c23ff31700"
   }
  }
 },
 "nbformat": 4,
 "nbformat_minor": 4
}
